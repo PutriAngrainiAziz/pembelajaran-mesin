{
  "cells": [
    {
      "cell_type": "markdown",
      "metadata": {
        "id": "view-in-github",
        "colab_type": "text"
      },
      "source": [
        "<a href=\"https://colab.research.google.com/github/PutriAngrainiAziz/pembelajaran-mesin/blob/main/fish.ipynb\" target=\"_parent\"><img src=\"https://colab.research.google.com/assets/colab-badge.svg\" alt=\"Open In Colab\"/></a>"
      ]
    },
    {
      "cell_type": "code",
      "execution_count": 15,
      "metadata": {
        "id": "krY4didw_25I"
      },
      "outputs": [],
      "source": [
        "import pandas as pd\n",
        "fish=pd.read_csv('Fish.csv')"
      ]
    },
    {
      "cell_type": "code",
      "execution_count": 16,
      "metadata": {
        "colab": {
          "base_uri": "https://localhost:8080/"
        },
        "id": "ZyTslUEGApyo",
        "outputId": "8b24c623-230a-46df-cfdf-4fed3005dfae"
      },
      "outputs": [
        {
          "output_type": "stream",
          "name": "stdout",
          "text": [
            "<class 'pandas.core.frame.DataFrame'>\n",
            "RangeIndex: 159 entries, 0 to 158\n",
            "Data columns (total 7 columns):\n",
            " #   Column   Non-Null Count  Dtype  \n",
            "---  ------   --------------  -----  \n",
            " 0   Species  159 non-null    object \n",
            " 1   Weight   159 non-null    float64\n",
            " 2   Length1  159 non-null    float64\n",
            " 3   Length2  159 non-null    float64\n",
            " 4   Length3  159 non-null    float64\n",
            " 5   Height   159 non-null    float64\n",
            " 6   Width    159 non-null    float64\n",
            "dtypes: float64(6), object(1)\n",
            "memory usage: 8.8+ KB\n"
          ]
        }
      ],
      "source": [
        "fish.info()"
      ]
    },
    {
      "cell_type": "code",
      "execution_count": 17,
      "metadata": {
        "colab": {
          "base_uri": "https://localhost:8080/",
          "height": 362
        },
        "id": "2cgNfO-jAsI6",
        "outputId": "a507592b-83b7-4124-8a8e-df73acda53d6"
      },
      "outputs": [
        {
          "output_type": "execute_result",
          "data": {
            "text/plain": [
              "  Species  Weight  Length1  Length2  Length3   Height   Width\n",
              "0   Bream   242.0     23.2     25.4     30.0  11.5200  4.0200\n",
              "1   Bream   290.0     24.0     26.3     31.2  12.4800  4.3056\n",
              "2   Bream   340.0     23.9     26.5     31.1  12.3778  4.6961\n",
              "3   Bream   363.0     26.3     29.0     33.5  12.7300  4.4555\n",
              "4   Bream   430.0     26.5     29.0     34.0  12.4440  5.1340\n",
              "5   Bream   450.0     26.8     29.7     34.7  13.6024  4.9274\n",
              "6   Bream   500.0     26.8     29.7     34.5  14.1795  5.2785\n",
              "7   Bream   390.0     27.6     30.0     35.0  12.6700  4.6900\n",
              "8   Bream   450.0     27.6     30.0     35.1  14.0049  4.8438\n",
              "9   Bream   500.0     28.5     30.7     36.2  14.2266  4.9594"
            ],
            "text/html": [
              "\n",
              "  <div id=\"df-d1a70e47-f267-433f-9a70-159ab2b0c885\" class=\"colab-df-container\">\n",
              "    <div>\n",
              "<style scoped>\n",
              "    .dataframe tbody tr th:only-of-type {\n",
              "        vertical-align: middle;\n",
              "    }\n",
              "\n",
              "    .dataframe tbody tr th {\n",
              "        vertical-align: top;\n",
              "    }\n",
              "\n",
              "    .dataframe thead th {\n",
              "        text-align: right;\n",
              "    }\n",
              "</style>\n",
              "<table border=\"1\" class=\"dataframe\">\n",
              "  <thead>\n",
              "    <tr style=\"text-align: right;\">\n",
              "      <th></th>\n",
              "      <th>Species</th>\n",
              "      <th>Weight</th>\n",
              "      <th>Length1</th>\n",
              "      <th>Length2</th>\n",
              "      <th>Length3</th>\n",
              "      <th>Height</th>\n",
              "      <th>Width</th>\n",
              "    </tr>\n",
              "  </thead>\n",
              "  <tbody>\n",
              "    <tr>\n",
              "      <th>0</th>\n",
              "      <td>Bream</td>\n",
              "      <td>242.0</td>\n",
              "      <td>23.2</td>\n",
              "      <td>25.4</td>\n",
              "      <td>30.0</td>\n",
              "      <td>11.5200</td>\n",
              "      <td>4.0200</td>\n",
              "    </tr>\n",
              "    <tr>\n",
              "      <th>1</th>\n",
              "      <td>Bream</td>\n",
              "      <td>290.0</td>\n",
              "      <td>24.0</td>\n",
              "      <td>26.3</td>\n",
              "      <td>31.2</td>\n",
              "      <td>12.4800</td>\n",
              "      <td>4.3056</td>\n",
              "    </tr>\n",
              "    <tr>\n",
              "      <th>2</th>\n",
              "      <td>Bream</td>\n",
              "      <td>340.0</td>\n",
              "      <td>23.9</td>\n",
              "      <td>26.5</td>\n",
              "      <td>31.1</td>\n",
              "      <td>12.3778</td>\n",
              "      <td>4.6961</td>\n",
              "    </tr>\n",
              "    <tr>\n",
              "      <th>3</th>\n",
              "      <td>Bream</td>\n",
              "      <td>363.0</td>\n",
              "      <td>26.3</td>\n",
              "      <td>29.0</td>\n",
              "      <td>33.5</td>\n",
              "      <td>12.7300</td>\n",
              "      <td>4.4555</td>\n",
              "    </tr>\n",
              "    <tr>\n",
              "      <th>4</th>\n",
              "      <td>Bream</td>\n",
              "      <td>430.0</td>\n",
              "      <td>26.5</td>\n",
              "      <td>29.0</td>\n",
              "      <td>34.0</td>\n",
              "      <td>12.4440</td>\n",
              "      <td>5.1340</td>\n",
              "    </tr>\n",
              "    <tr>\n",
              "      <th>5</th>\n",
              "      <td>Bream</td>\n",
              "      <td>450.0</td>\n",
              "      <td>26.8</td>\n",
              "      <td>29.7</td>\n",
              "      <td>34.7</td>\n",
              "      <td>13.6024</td>\n",
              "      <td>4.9274</td>\n",
              "    </tr>\n",
              "    <tr>\n",
              "      <th>6</th>\n",
              "      <td>Bream</td>\n",
              "      <td>500.0</td>\n",
              "      <td>26.8</td>\n",
              "      <td>29.7</td>\n",
              "      <td>34.5</td>\n",
              "      <td>14.1795</td>\n",
              "      <td>5.2785</td>\n",
              "    </tr>\n",
              "    <tr>\n",
              "      <th>7</th>\n",
              "      <td>Bream</td>\n",
              "      <td>390.0</td>\n",
              "      <td>27.6</td>\n",
              "      <td>30.0</td>\n",
              "      <td>35.0</td>\n",
              "      <td>12.6700</td>\n",
              "      <td>4.6900</td>\n",
              "    </tr>\n",
              "    <tr>\n",
              "      <th>8</th>\n",
              "      <td>Bream</td>\n",
              "      <td>450.0</td>\n",
              "      <td>27.6</td>\n",
              "      <td>30.0</td>\n",
              "      <td>35.1</td>\n",
              "      <td>14.0049</td>\n",
              "      <td>4.8438</td>\n",
              "    </tr>\n",
              "    <tr>\n",
              "      <th>9</th>\n",
              "      <td>Bream</td>\n",
              "      <td>500.0</td>\n",
              "      <td>28.5</td>\n",
              "      <td>30.7</td>\n",
              "      <td>36.2</td>\n",
              "      <td>14.2266</td>\n",
              "      <td>4.9594</td>\n",
              "    </tr>\n",
              "  </tbody>\n",
              "</table>\n",
              "</div>\n",
              "    <div class=\"colab-df-buttons\">\n",
              "\n",
              "  <div class=\"colab-df-container\">\n",
              "    <button class=\"colab-df-convert\" onclick=\"convertToInteractive('df-d1a70e47-f267-433f-9a70-159ab2b0c885')\"\n",
              "            title=\"Convert this dataframe to an interactive table.\"\n",
              "            style=\"display:none;\">\n",
              "\n",
              "  <svg xmlns=\"http://www.w3.org/2000/svg\" height=\"24px\" viewBox=\"0 -960 960 960\">\n",
              "    <path d=\"M120-120v-720h720v720H120Zm60-500h600v-160H180v160Zm220 220h160v-160H400v160Zm0 220h160v-160H400v160ZM180-400h160v-160H180v160Zm440 0h160v-160H620v160ZM180-180h160v-160H180v160Zm440 0h160v-160H620v160Z\"/>\n",
              "  </svg>\n",
              "    </button>\n",
              "\n",
              "  <style>\n",
              "    .colab-df-container {\n",
              "      display:flex;\n",
              "      gap: 12px;\n",
              "    }\n",
              "\n",
              "    .colab-df-convert {\n",
              "      background-color: #E8F0FE;\n",
              "      border: none;\n",
              "      border-radius: 50%;\n",
              "      cursor: pointer;\n",
              "      display: none;\n",
              "      fill: #1967D2;\n",
              "      height: 32px;\n",
              "      padding: 0 0 0 0;\n",
              "      width: 32px;\n",
              "    }\n",
              "\n",
              "    .colab-df-convert:hover {\n",
              "      background-color: #E2EBFA;\n",
              "      box-shadow: 0px 1px 2px rgba(60, 64, 67, 0.3), 0px 1px 3px 1px rgba(60, 64, 67, 0.15);\n",
              "      fill: #174EA6;\n",
              "    }\n",
              "\n",
              "    .colab-df-buttons div {\n",
              "      margin-bottom: 4px;\n",
              "    }\n",
              "\n",
              "    [theme=dark] .colab-df-convert {\n",
              "      background-color: #3B4455;\n",
              "      fill: #D2E3FC;\n",
              "    }\n",
              "\n",
              "    [theme=dark] .colab-df-convert:hover {\n",
              "      background-color: #434B5C;\n",
              "      box-shadow: 0px 1px 3px 1px rgba(0, 0, 0, 0.15);\n",
              "      filter: drop-shadow(0px 1px 2px rgba(0, 0, 0, 0.3));\n",
              "      fill: #FFFFFF;\n",
              "    }\n",
              "  </style>\n",
              "\n",
              "    <script>\n",
              "      const buttonEl =\n",
              "        document.querySelector('#df-d1a70e47-f267-433f-9a70-159ab2b0c885 button.colab-df-convert');\n",
              "      buttonEl.style.display =\n",
              "        google.colab.kernel.accessAllowed ? 'block' : 'none';\n",
              "\n",
              "      async function convertToInteractive(key) {\n",
              "        const element = document.querySelector('#df-d1a70e47-f267-433f-9a70-159ab2b0c885');\n",
              "        const dataTable =\n",
              "          await google.colab.kernel.invokeFunction('convertToInteractive',\n",
              "                                                    [key], {});\n",
              "        if (!dataTable) return;\n",
              "\n",
              "        const docLinkHtml = 'Like what you see? Visit the ' +\n",
              "          '<a target=\"_blank\" href=https://colab.research.google.com/notebooks/data_table.ipynb>data table notebook</a>'\n",
              "          + ' to learn more about interactive tables.';\n",
              "        element.innerHTML = '';\n",
              "        dataTable['output_type'] = 'display_data';\n",
              "        await google.colab.output.renderOutput(dataTable, element);\n",
              "        const docLink = document.createElement('div');\n",
              "        docLink.innerHTML = docLinkHtml;\n",
              "        element.appendChild(docLink);\n",
              "      }\n",
              "    </script>\n",
              "  </div>\n",
              "\n",
              "\n",
              "<div id=\"df-e378bc91-97cc-462a-80ac-24a8357e094f\">\n",
              "  <button class=\"colab-df-quickchart\" onclick=\"quickchart('df-e378bc91-97cc-462a-80ac-24a8357e094f')\"\n",
              "            title=\"Suggest charts\"\n",
              "            style=\"display:none;\">\n",
              "\n",
              "<svg xmlns=\"http://www.w3.org/2000/svg\" height=\"24px\"viewBox=\"0 0 24 24\"\n",
              "     width=\"24px\">\n",
              "    <g>\n",
              "        <path d=\"M19 3H5c-1.1 0-2 .9-2 2v14c0 1.1.9 2 2 2h14c1.1 0 2-.9 2-2V5c0-1.1-.9-2-2-2zM9 17H7v-7h2v7zm4 0h-2V7h2v10zm4 0h-2v-4h2v4z\"/>\n",
              "    </g>\n",
              "</svg>\n",
              "  </button>\n",
              "\n",
              "<style>\n",
              "  .colab-df-quickchart {\n",
              "      --bg-color: #E8F0FE;\n",
              "      --fill-color: #1967D2;\n",
              "      --hover-bg-color: #E2EBFA;\n",
              "      --hover-fill-color: #174EA6;\n",
              "      --disabled-fill-color: #AAA;\n",
              "      --disabled-bg-color: #DDD;\n",
              "  }\n",
              "\n",
              "  [theme=dark] .colab-df-quickchart {\n",
              "      --bg-color: #3B4455;\n",
              "      --fill-color: #D2E3FC;\n",
              "      --hover-bg-color: #434B5C;\n",
              "      --hover-fill-color: #FFFFFF;\n",
              "      --disabled-bg-color: #3B4455;\n",
              "      --disabled-fill-color: #666;\n",
              "  }\n",
              "\n",
              "  .colab-df-quickchart {\n",
              "    background-color: var(--bg-color);\n",
              "    border: none;\n",
              "    border-radius: 50%;\n",
              "    cursor: pointer;\n",
              "    display: none;\n",
              "    fill: var(--fill-color);\n",
              "    height: 32px;\n",
              "    padding: 0;\n",
              "    width: 32px;\n",
              "  }\n",
              "\n",
              "  .colab-df-quickchart:hover {\n",
              "    background-color: var(--hover-bg-color);\n",
              "    box-shadow: 0 1px 2px rgba(60, 64, 67, 0.3), 0 1px 3px 1px rgba(60, 64, 67, 0.15);\n",
              "    fill: var(--button-hover-fill-color);\n",
              "  }\n",
              "\n",
              "  .colab-df-quickchart-complete:disabled,\n",
              "  .colab-df-quickchart-complete:disabled:hover {\n",
              "    background-color: var(--disabled-bg-color);\n",
              "    fill: var(--disabled-fill-color);\n",
              "    box-shadow: none;\n",
              "  }\n",
              "\n",
              "  .colab-df-spinner {\n",
              "    border: 2px solid var(--fill-color);\n",
              "    border-color: transparent;\n",
              "    border-bottom-color: var(--fill-color);\n",
              "    animation:\n",
              "      spin 1s steps(1) infinite;\n",
              "  }\n",
              "\n",
              "  @keyframes spin {\n",
              "    0% {\n",
              "      border-color: transparent;\n",
              "      border-bottom-color: var(--fill-color);\n",
              "      border-left-color: var(--fill-color);\n",
              "    }\n",
              "    20% {\n",
              "      border-color: transparent;\n",
              "      border-left-color: var(--fill-color);\n",
              "      border-top-color: var(--fill-color);\n",
              "    }\n",
              "    30% {\n",
              "      border-color: transparent;\n",
              "      border-left-color: var(--fill-color);\n",
              "      border-top-color: var(--fill-color);\n",
              "      border-right-color: var(--fill-color);\n",
              "    }\n",
              "    40% {\n",
              "      border-color: transparent;\n",
              "      border-right-color: var(--fill-color);\n",
              "      border-top-color: var(--fill-color);\n",
              "    }\n",
              "    60% {\n",
              "      border-color: transparent;\n",
              "      border-right-color: var(--fill-color);\n",
              "    }\n",
              "    80% {\n",
              "      border-color: transparent;\n",
              "      border-right-color: var(--fill-color);\n",
              "      border-bottom-color: var(--fill-color);\n",
              "    }\n",
              "    90% {\n",
              "      border-color: transparent;\n",
              "      border-bottom-color: var(--fill-color);\n",
              "    }\n",
              "  }\n",
              "</style>\n",
              "\n",
              "  <script>\n",
              "    async function quickchart(key) {\n",
              "      const quickchartButtonEl =\n",
              "        document.querySelector('#' + key + ' button');\n",
              "      quickchartButtonEl.disabled = true;  // To prevent multiple clicks.\n",
              "      quickchartButtonEl.classList.add('colab-df-spinner');\n",
              "      try {\n",
              "        const charts = await google.colab.kernel.invokeFunction(\n",
              "            'suggestCharts', [key], {});\n",
              "      } catch (error) {\n",
              "        console.error('Error during call to suggestCharts:', error);\n",
              "      }\n",
              "      quickchartButtonEl.classList.remove('colab-df-spinner');\n",
              "      quickchartButtonEl.classList.add('colab-df-quickchart-complete');\n",
              "    }\n",
              "    (() => {\n",
              "      let quickchartButtonEl =\n",
              "        document.querySelector('#df-e378bc91-97cc-462a-80ac-24a8357e094f button');\n",
              "      quickchartButtonEl.style.display =\n",
              "        google.colab.kernel.accessAllowed ? 'block' : 'none';\n",
              "    })();\n",
              "  </script>\n",
              "</div>\n",
              "    </div>\n",
              "  </div>\n"
            ],
            "application/vnd.google.colaboratory.intrinsic+json": {
              "type": "dataframe",
              "variable_name": "fish",
              "summary": "{\n  \"name\": \"fish\",\n  \"rows\": 159,\n  \"fields\": [\n    {\n      \"column\": \"Species\",\n      \"properties\": {\n        \"dtype\": \"category\",\n        \"num_unique_values\": 7,\n        \"samples\": [\n          \"Bream\",\n          \"Roach\",\n          \"Pike\"\n        ],\n        \"semantic_type\": \"\",\n        \"description\": \"\"\n      }\n    },\n    {\n      \"column\": \"Weight\",\n      \"properties\": {\n        \"dtype\": \"number\",\n        \"std\": 357.9783165508931,\n        \"min\": 0.0,\n        \"max\": 1650.0,\n        \"num_unique_values\": 101,\n        \"samples\": [\n          770.0,\n          51.5,\n          197.0\n        ],\n        \"semantic_type\": \"\",\n        \"description\": \"\"\n      }\n    },\n    {\n      \"column\": \"Length1\",\n      \"properties\": {\n        \"dtype\": \"number\",\n        \"std\": 9.996441210553128,\n        \"min\": 7.5,\n        \"max\": 59.0,\n        \"num_unique_values\": 116,\n        \"samples\": [\n          36.9,\n          26.5,\n          22.1\n        ],\n        \"semantic_type\": \"\",\n        \"description\": \"\"\n      }\n    },\n    {\n      \"column\": \"Length2\",\n      \"properties\": {\n        \"dtype\": \"number\",\n        \"std\": 10.716328098884247,\n        \"min\": 8.4,\n        \"max\": 63.4,\n        \"num_unique_values\": 93,\n        \"samples\": [\n          14.7,\n          18.8,\n          19.6\n        ],\n        \"semantic_type\": \"\",\n        \"description\": \"\"\n      }\n    },\n    {\n      \"column\": \"Length3\",\n      \"properties\": {\n        \"dtype\": \"number\",\n        \"std\": 11.610245832690964,\n        \"min\": 8.8,\n        \"max\": 68.0,\n        \"num_unique_values\": 124,\n        \"samples\": [\n          39.2,\n          27.2,\n          23.1\n        ],\n        \"semantic_type\": \"\",\n        \"description\": \"\"\n      }\n    },\n    {\n      \"column\": \"Height\",\n      \"properties\": {\n        \"dtype\": \"number\",\n        \"std\": 4.2862076199688675,\n        \"min\": 1.7284,\n        \"max\": 18.957,\n        \"num_unique_values\": 154,\n        \"samples\": [\n          15.438,\n          7.293,\n          2.8728\n        ],\n        \"semantic_type\": \"\",\n        \"description\": \"\"\n      }\n    },\n    {\n      \"column\": \"Width\",\n      \"properties\": {\n        \"dtype\": \"number\",\n        \"std\": 1.685803869992167,\n        \"min\": 1.0476,\n        \"max\": 8.142,\n        \"num_unique_values\": 152,\n        \"samples\": [\n          3.1571,\n          1.3936,\n          3.6835\n        ],\n        \"semantic_type\": \"\",\n        \"description\": \"\"\n      }\n    }\n  ]\n}"
            }
          },
          "metadata": {},
          "execution_count": 17
        }
      ],
      "source": [
        "fish.head(10)"
      ]
    },
    {
      "cell_type": "code",
      "execution_count": 20,
      "metadata": {
        "id": "VU5KLME1Beu2"
      },
      "outputs": [],
      "source": [
        "#memisahkan atribut dngn label\n",
        "X = fish[['Weight','Length1','Length2','Length3','Height','Width']] #atribut\n",
        "y = fish['Species'] #label\n",
        "\n",
        "#membagi data set menjadi data latih dan dta uji\n",
        "from sklearn.model_selection import train_test_split\n",
        "X_train,X_test, y_train, y_test = train_test_split(X, y, test_size=0.1, random_state=123)"
      ]
    },
    {
      "cell_type": "code",
      "execution_count": 21,
      "metadata": {
        "id": "RTQyfbqsDFgo"
      },
      "outputs": [],
      "source": [
        "from sklearn.tree import DecisionTreeClassifier\n",
        "\n",
        "#membuat model decison 3\n",
        "tree_model = DecisionTreeClassifier()\n",
        "\n",
        "#melatih model menggunakan data latih\n",
        "tree_model = tree_model.fit(X_train, y_train)"
      ]
    },
    {
      "cell_type": "code",
      "execution_count": 22,
      "metadata": {
        "colab": {
          "base_uri": "https://localhost:8080/"
        },
        "id": "M9JXVnmRDsNA",
        "outputId": "5c1a567d-ef79-4ab4-850d-26c6c420a532"
      },
      "outputs": [
        {
          "output_type": "stream",
          "name": "stdout",
          "text": [
            "Accuracy: 0.875\n"
          ]
        }
      ],
      "source": [
        "#evaluasi model\n",
        "\n",
        "from sklearn.metrics import accuracy_score\n",
        "\n",
        "y_pred = tree_model.predict(X_test)\n",
        "\n",
        "acc_score = round(accuracy_score(y_pred, y_test), 3)\n",
        "\n",
        "print('Accuracy:', acc_score)"
      ]
    },
    {
      "cell_type": "code",
      "execution_count": 23,
      "metadata": {
        "colab": {
          "base_uri": "https://localhost:8080/"
        },
        "id": "67Vm2x-6FmXb",
        "outputId": "58b23f63-701e-4ad1-ccfb-6c2812ca244e"
      },
      "outputs": [
        {
          "output_type": "stream",
          "name": "stdout",
          "text": [
            "Pike\n"
          ]
        },
        {
          "output_type": "stream",
          "name": "stderr",
          "text": [
            "/usr/local/lib/python3.10/dist-packages/sklearn/base.py:439: UserWarning: X does not have valid feature names, but DecisionTreeClassifier was fitted with feature names\n",
            "  warnings.warn(\n"
          ]
        }
      ],
      "source": [
        "#prediksi model dengan tree_model\n",
        "\n",
        "print(tree_model.predict([[865.0, 78.3, 65.2, 82.0,12.5200,5.0200]])[0])"
      ]
    },
    {
      "cell_type": "code",
      "execution_count": 24,
      "metadata": {
        "id": "ZCFfahmbGXhM"
      },
      "outputs": [],
      "source": [
        "#melihat visulisasi datanya decision tree\n",
        "from sklearn.tree import export_graphviz\n",
        "\n",
        "export_graphviz(tree_model,\n",
        "                out_file=\"fish_eda.dot\",\n",
        "                feature_names=['Weight','Length1','Length2','Length3','Height','Width'],\n",
        "                class_names=['Bream','Roach','Whitefish','Parkki','Perch','Pike','Smelt'],\n",
        "                rounded=True,\n",
        "                filled=True)"
      ]
    },
    {
      "cell_type": "code",
      "source": [
        "# Konversi file .dot menjadi gambar\n",
        "import graphviz\n",
        "with open(\"fish_eda.dot\") as f:\n",
        "    dot_graph = f.read()\n",
        "graphviz.Source(dot_graph)\n"
      ],
      "metadata": {
        "colab": {
          "base_uri": "https://localhost:8080/",
          "height": 1000
        },
        "id": "fuExLFNQp0H1",
        "outputId": "91348702-9c2c-4311-dd67-9aec79e0000d"
      },
      "execution_count": 25,
      "outputs": [
        {
          "output_type": "execute_result",
          "data": {
            "image/svg+xml": "<?xml version=\"1.0\" encoding=\"UTF-8\" standalone=\"no\"?>\n<!DOCTYPE svg PUBLIC \"-//W3C//DTD SVG 1.1//EN\"\n \"http://www.w3.org/Graphics/SVG/1.1/DTD/svg11.dtd\">\n<!-- Generated by graphviz version 2.43.0 (0)\n -->\n<!-- Title: Tree Pages: 1 -->\n<svg width=\"2784pt\" height=\"1623pt\"\n viewBox=\"0.00 0.00 2784.00 1623.00\" xmlns=\"http://www.w3.org/2000/svg\" xmlns:xlink=\"http://www.w3.org/1999/xlink\">\n<g id=\"graph0\" class=\"graph\" transform=\"scale(1 1) rotate(0) translate(4 1619)\">\n<title>Tree</title>\n<polygon fill=\"white\" stroke=\"transparent\" points=\"-4,4 -4,-1619 2780,-1619 2780,4 -4,4\"/>\n<!-- 0 -->\n<g id=\"node1\" class=\"node\">\n<title>0</title>\n<path fill=\"#dffbe2\" stroke=\"black\" d=\"M2122.5,-1615C2122.5,-1615 1931.5,-1615 1931.5,-1615 1925.5,-1615 1919.5,-1609 1919.5,-1603 1919.5,-1603 1919.5,-1544 1919.5,-1544 1919.5,-1538 1925.5,-1532 1931.5,-1532 1931.5,-1532 2122.5,-1532 2122.5,-1532 2128.5,-1532 2134.5,-1538 2134.5,-1544 2134.5,-1544 2134.5,-1603 2134.5,-1603 2134.5,-1609 2128.5,-1615 2122.5,-1615\"/>\n<text text-anchor=\"middle\" x=\"2027\" y=\"-1599.8\" font-family=\"Helvetica,sans-Serif\" font-size=\"14.00\">Height &lt;= 12.637</text>\n<text text-anchor=\"middle\" x=\"2027\" y=\"-1584.8\" font-family=\"Helvetica,sans-Serif\" font-size=\"14.00\">gini = 0.792</text>\n<text text-anchor=\"middle\" x=\"2027\" y=\"-1569.8\" font-family=\"Helvetica,sans-Serif\" font-size=\"14.00\">samples = 143</text>\n<text text-anchor=\"middle\" x=\"2027\" y=\"-1554.8\" font-family=\"Helvetica,sans-Serif\" font-size=\"14.00\">value = [31, 10, 49, 15, 19, 13, 6]</text>\n<text text-anchor=\"middle\" x=\"2027\" y=\"-1539.8\" font-family=\"Helvetica,sans-Serif\" font-size=\"14.00\">class = Whitefish</text>\n</g>\n<!-- 1 -->\n<g id=\"node2\" class=\"node\">\n<title>1</title>\n<path fill=\"#c3f7c9\" stroke=\"black\" d=\"M2013.5,-1496C2013.5,-1496 1830.5,-1496 1830.5,-1496 1824.5,-1496 1818.5,-1490 1818.5,-1484 1818.5,-1484 1818.5,-1425 1818.5,-1425 1818.5,-1419 1824.5,-1413 1830.5,-1413 1830.5,-1413 2013.5,-1413 2013.5,-1413 2019.5,-1413 2025.5,-1419 2025.5,-1425 2025.5,-1425 2025.5,-1484 2025.5,-1484 2025.5,-1490 2019.5,-1496 2013.5,-1496\"/>\n<text text-anchor=\"middle\" x=\"1922\" y=\"-1480.8\" font-family=\"Helvetica,sans-Serif\" font-size=\"14.00\">Height &lt;= 3.23</text>\n<text text-anchor=\"middle\" x=\"1922\" y=\"-1465.8\" font-family=\"Helvetica,sans-Serif\" font-size=\"14.00\">gini = 0.757</text>\n<text text-anchor=\"middle\" x=\"1922\" y=\"-1450.8\" font-family=\"Helvetica,sans-Serif\" font-size=\"14.00\">samples = 115</text>\n<text text-anchor=\"middle\" x=\"1922\" y=\"-1435.8\" font-family=\"Helvetica,sans-Serif\" font-size=\"14.00\">value = [4, 10, 48, 15, 19, 13, 6]</text>\n<text text-anchor=\"middle\" x=\"1922\" y=\"-1420.8\" font-family=\"Helvetica,sans-Serif\" font-size=\"14.00\">class = Whitefish</text>\n</g>\n<!-- 0&#45;&gt;1 -->\n<g id=\"edge1\" class=\"edge\">\n<title>0&#45;&gt;1</title>\n<path fill=\"none\" stroke=\"black\" d=\"M1990.57,-1531.91C1982.35,-1522.74 1973.54,-1512.93 1965.07,-1503.49\"/>\n<polygon fill=\"black\" stroke=\"black\" points=\"1967.65,-1501.13 1958.36,-1496.02 1962.44,-1505.8 1967.65,-1501.13\"/>\n<text text-anchor=\"middle\" x=\"1957.02\" y=\"-1517.28\" font-family=\"Helvetica,sans-Serif\" font-size=\"14.00\">True</text>\n</g>\n<!-- 70 -->\n<g id=\"node71\" class=\"node\">\n<title>70</title>\n<path fill=\"#e68640\" stroke=\"black\" d=\"M2208.5,-1496C2208.5,-1496 2055.5,-1496 2055.5,-1496 2049.5,-1496 2043.5,-1490 2043.5,-1484 2043.5,-1484 2043.5,-1425 2043.5,-1425 2043.5,-1419 2049.5,-1413 2055.5,-1413 2055.5,-1413 2208.5,-1413 2208.5,-1413 2214.5,-1413 2220.5,-1419 2220.5,-1425 2220.5,-1425 2220.5,-1484 2220.5,-1484 2220.5,-1490 2214.5,-1496 2208.5,-1496\"/>\n<text text-anchor=\"middle\" x=\"2132\" y=\"-1480.8\" font-family=\"Helvetica,sans-Serif\" font-size=\"14.00\">Weight &lt;= 1050.0</text>\n<text text-anchor=\"middle\" x=\"2132\" y=\"-1465.8\" font-family=\"Helvetica,sans-Serif\" font-size=\"14.00\">gini = 0.069</text>\n<text text-anchor=\"middle\" x=\"2132\" y=\"-1450.8\" font-family=\"Helvetica,sans-Serif\" font-size=\"14.00\">samples = 28</text>\n<text text-anchor=\"middle\" x=\"2132\" y=\"-1435.8\" font-family=\"Helvetica,sans-Serif\" font-size=\"14.00\">value = [27, 0, 1, 0, 0, 0, 0]</text>\n<text text-anchor=\"middle\" x=\"2132\" y=\"-1420.8\" font-family=\"Helvetica,sans-Serif\" font-size=\"14.00\">class = Bream</text>\n</g>\n<!-- 0&#45;&gt;70 -->\n<g id=\"edge70\" class=\"edge\">\n<title>0&#45;&gt;70</title>\n<path fill=\"none\" stroke=\"black\" d=\"M2063.43,-1531.91C2071.65,-1522.74 2080.46,-1512.93 2088.93,-1503.49\"/>\n<polygon fill=\"black\" stroke=\"black\" points=\"2091.56,-1505.8 2095.64,-1496.02 2086.35,-1501.13 2091.56,-1505.8\"/>\n<text text-anchor=\"middle\" x=\"2096.98\" y=\"-1517.28\" font-family=\"Helvetica,sans-Serif\" font-size=\"14.00\">False</text>\n</g>\n<!-- 2 -->\n<g id=\"node3\" class=\"node\">\n<title>2</title>\n<path fill=\"#b748e7\" stroke=\"black\" d=\"M1792.5,-1377C1792.5,-1377 1639.5,-1377 1639.5,-1377 1633.5,-1377 1627.5,-1371 1627.5,-1365 1627.5,-1365 1627.5,-1306 1627.5,-1306 1627.5,-1300 1633.5,-1294 1639.5,-1294 1639.5,-1294 1792.5,-1294 1792.5,-1294 1798.5,-1294 1804.5,-1300 1804.5,-1306 1804.5,-1306 1804.5,-1365 1804.5,-1365 1804.5,-1371 1798.5,-1377 1792.5,-1377\"/>\n<text text-anchor=\"middle\" x=\"1716\" y=\"-1361.8\" font-family=\"Helvetica,sans-Serif\" font-size=\"14.00\">Length1 &lt;= 8.4</text>\n<text text-anchor=\"middle\" x=\"1716\" y=\"-1346.8\" font-family=\"Helvetica,sans-Serif\" font-size=\"14.00\">gini = 0.133</text>\n<text text-anchor=\"middle\" x=\"1716\" y=\"-1331.8\" font-family=\"Helvetica,sans-Serif\" font-size=\"14.00\">samples = 14</text>\n<text text-anchor=\"middle\" x=\"1716\" y=\"-1316.8\" font-family=\"Helvetica,sans-Serif\" font-size=\"14.00\">value = [0, 0, 1, 0, 0, 13, 0]</text>\n<text text-anchor=\"middle\" x=\"1716\" y=\"-1301.8\" font-family=\"Helvetica,sans-Serif\" font-size=\"14.00\">class = Pike</text>\n</g>\n<!-- 1&#45;&gt;2 -->\n<g id=\"edge2\" class=\"edge\">\n<title>1&#45;&gt;2</title>\n<path fill=\"none\" stroke=\"black\" d=\"M1850.53,-1412.91C1832.95,-1402.92 1814.02,-1392.17 1796.07,-1381.98\"/>\n<polygon fill=\"black\" stroke=\"black\" points=\"1797.77,-1378.92 1787.34,-1377.02 1794.31,-1385 1797.77,-1378.92\"/>\n</g>\n<!-- 5 -->\n<g id=\"node6\" class=\"node\">\n<title>5</title>\n<path fill=\"#bbf6c2\" stroke=\"black\" d=\"M2011,-1377C2011,-1377 1835,-1377 1835,-1377 1829,-1377 1823,-1371 1823,-1365 1823,-1365 1823,-1306 1823,-1306 1823,-1300 1829,-1294 1835,-1294 1835,-1294 2011,-1294 2011,-1294 2017,-1294 2023,-1300 2023,-1306 2023,-1306 2023,-1365 2023,-1365 2023,-1371 2017,-1377 2011,-1377\"/>\n<text text-anchor=\"middle\" x=\"1923\" y=\"-1361.8\" font-family=\"Helvetica,sans-Serif\" font-size=\"14.00\">Length2 &lt;= 44.25</text>\n<text text-anchor=\"middle\" x=\"1923\" y=\"-1346.8\" font-family=\"Helvetica,sans-Serif\" font-size=\"14.00\">gini = 0.711</text>\n<text text-anchor=\"middle\" x=\"1923\" y=\"-1331.8\" font-family=\"Helvetica,sans-Serif\" font-size=\"14.00\">samples = 101</text>\n<text text-anchor=\"middle\" x=\"1923\" y=\"-1316.8\" font-family=\"Helvetica,sans-Serif\" font-size=\"14.00\">value = [4, 10, 47, 15, 19, 0, 6]</text>\n<text text-anchor=\"middle\" x=\"1923\" y=\"-1301.8\" font-family=\"Helvetica,sans-Serif\" font-size=\"14.00\">class = Whitefish</text>\n</g>\n<!-- 1&#45;&gt;5 -->\n<g id=\"edge5\" class=\"edge\">\n<title>1&#45;&gt;5</title>\n<path fill=\"none\" stroke=\"black\" d=\"M1922.35,-1412.91C1922.42,-1404.65 1922.49,-1395.86 1922.57,-1387.3\"/>\n<polygon fill=\"black\" stroke=\"black\" points=\"1926.07,-1387.05 1922.65,-1377.02 1919.07,-1386.99 1926.07,-1387.05\"/>\n</g>\n<!-- 3 -->\n<g id=\"node4\" class=\"node\">\n<title>3</title>\n<path fill=\"#39e54d\" stroke=\"black\" d=\"M1598,-1250.5C1598,-1250.5 1452,-1250.5 1452,-1250.5 1446,-1250.5 1440,-1244.5 1440,-1238.5 1440,-1238.5 1440,-1194.5 1440,-1194.5 1440,-1188.5 1446,-1182.5 1452,-1182.5 1452,-1182.5 1598,-1182.5 1598,-1182.5 1604,-1182.5 1610,-1188.5 1610,-1194.5 1610,-1194.5 1610,-1238.5 1610,-1238.5 1610,-1244.5 1604,-1250.5 1598,-1250.5\"/>\n<text text-anchor=\"middle\" x=\"1525\" y=\"-1235.3\" font-family=\"Helvetica,sans-Serif\" font-size=\"14.00\">gini = 0.0</text>\n<text text-anchor=\"middle\" x=\"1525\" y=\"-1220.3\" font-family=\"Helvetica,sans-Serif\" font-size=\"14.00\">samples = 1</text>\n<text text-anchor=\"middle\" x=\"1525\" y=\"-1205.3\" font-family=\"Helvetica,sans-Serif\" font-size=\"14.00\">value = [0, 0, 1, 0, 0, 0, 0]</text>\n<text text-anchor=\"middle\" x=\"1525\" y=\"-1190.3\" font-family=\"Helvetica,sans-Serif\" font-size=\"14.00\">class = Whitefish</text>\n</g>\n<!-- 2&#45;&gt;3 -->\n<g id=\"edge3\" class=\"edge\">\n<title>2&#45;&gt;3</title>\n<path fill=\"none\" stroke=\"black\" d=\"M1649.73,-1293.91C1629.65,-1281.6 1607.65,-1268.13 1587.8,-1255.97\"/>\n<polygon fill=\"black\" stroke=\"black\" points=\"1589.5,-1252.91 1579.14,-1250.67 1585.84,-1258.88 1589.5,-1252.91\"/>\n</g>\n<!-- 4 -->\n<g id=\"node5\" class=\"node\">\n<title>4</title>\n<path fill=\"#b139e5\" stroke=\"black\" d=\"M1793.5,-1250.5C1793.5,-1250.5 1640.5,-1250.5 1640.5,-1250.5 1634.5,-1250.5 1628.5,-1244.5 1628.5,-1238.5 1628.5,-1238.5 1628.5,-1194.5 1628.5,-1194.5 1628.5,-1188.5 1634.5,-1182.5 1640.5,-1182.5 1640.5,-1182.5 1793.5,-1182.5 1793.5,-1182.5 1799.5,-1182.5 1805.5,-1188.5 1805.5,-1194.5 1805.5,-1194.5 1805.5,-1238.5 1805.5,-1238.5 1805.5,-1244.5 1799.5,-1250.5 1793.5,-1250.5\"/>\n<text text-anchor=\"middle\" x=\"1717\" y=\"-1235.3\" font-family=\"Helvetica,sans-Serif\" font-size=\"14.00\">gini = 0.0</text>\n<text text-anchor=\"middle\" x=\"1717\" y=\"-1220.3\" font-family=\"Helvetica,sans-Serif\" font-size=\"14.00\">samples = 13</text>\n<text text-anchor=\"middle\" x=\"1717\" y=\"-1205.3\" font-family=\"Helvetica,sans-Serif\" font-size=\"14.00\">value = [0, 0, 0, 0, 0, 13, 0]</text>\n<text text-anchor=\"middle\" x=\"1717\" y=\"-1190.3\" font-family=\"Helvetica,sans-Serif\" font-size=\"14.00\">class = Pike</text>\n</g>\n<!-- 2&#45;&gt;4 -->\n<g id=\"edge4\" class=\"edge\">\n<title>2&#45;&gt;4</title>\n<path fill=\"none\" stroke=\"black\" d=\"M1716.35,-1293.91C1716.44,-1283.2 1716.54,-1271.62 1716.63,-1260.78\"/>\n<polygon fill=\"black\" stroke=\"black\" points=\"1720.13,-1260.7 1716.72,-1250.67 1713.13,-1260.64 1720.13,-1260.7\"/>\n</g>\n<!-- 6 -->\n<g id=\"node7\" class=\"node\">\n<title>6</title>\n<path fill=\"#b4f5bc\" stroke=\"black\" d=\"M2006,-1258C2006,-1258 1838,-1258 1838,-1258 1832,-1258 1826,-1252 1826,-1246 1826,-1246 1826,-1187 1826,-1187 1826,-1181 1832,-1175 1838,-1175 1838,-1175 2006,-1175 2006,-1175 2012,-1175 2018,-1181 2018,-1187 2018,-1187 2018,-1246 2018,-1246 2018,-1252 2012,-1258 2006,-1258\"/>\n<text text-anchor=\"middle\" x=\"1922\" y=\"-1242.8\" font-family=\"Helvetica,sans-Serif\" font-size=\"14.00\">Length1 &lt;= 24.05</text>\n<text text-anchor=\"middle\" x=\"1922\" y=\"-1227.8\" font-family=\"Helvetica,sans-Serif\" font-size=\"14.00\">gini = 0.68</text>\n<text text-anchor=\"middle\" x=\"1922\" y=\"-1212.8\" font-family=\"Helvetica,sans-Serif\" font-size=\"14.00\">samples = 93</text>\n<text text-anchor=\"middle\" x=\"1922\" y=\"-1197.8\" font-family=\"Helvetica,sans-Serif\" font-size=\"14.00\">value = [4, 10, 47, 7, 19, 0, 6]</text>\n<text text-anchor=\"middle\" x=\"1922\" y=\"-1182.8\" font-family=\"Helvetica,sans-Serif\" font-size=\"14.00\">class = Whitefish</text>\n</g>\n<!-- 5&#45;&gt;6 -->\n<g id=\"edge6\" class=\"edge\">\n<title>5&#45;&gt;6</title>\n<path fill=\"none\" stroke=\"black\" d=\"M1922.65,-1293.91C1922.58,-1285.65 1922.51,-1276.86 1922.43,-1268.3\"/>\n<polygon fill=\"black\" stroke=\"black\" points=\"1925.93,-1267.99 1922.35,-1258.02 1918.93,-1268.05 1925.93,-1267.99\"/>\n</g>\n<!-- 69 -->\n<g id=\"node70\" class=\"node\">\n<title>69</title>\n<path fill=\"#39e5e2\" stroke=\"black\" d=\"M2194,-1250.5C2194,-1250.5 2048,-1250.5 2048,-1250.5 2042,-1250.5 2036,-1244.5 2036,-1238.5 2036,-1238.5 2036,-1194.5 2036,-1194.5 2036,-1188.5 2042,-1182.5 2048,-1182.5 2048,-1182.5 2194,-1182.5 2194,-1182.5 2200,-1182.5 2206,-1188.5 2206,-1194.5 2206,-1194.5 2206,-1238.5 2206,-1238.5 2206,-1244.5 2200,-1250.5 2194,-1250.5\"/>\n<text text-anchor=\"middle\" x=\"2121\" y=\"-1235.3\" font-family=\"Helvetica,sans-Serif\" font-size=\"14.00\">gini = 0.0</text>\n<text text-anchor=\"middle\" x=\"2121\" y=\"-1220.3\" font-family=\"Helvetica,sans-Serif\" font-size=\"14.00\">samples = 8</text>\n<text text-anchor=\"middle\" x=\"2121\" y=\"-1205.3\" font-family=\"Helvetica,sans-Serif\" font-size=\"14.00\">value = [0, 0, 0, 8, 0, 0, 0]</text>\n<text text-anchor=\"middle\" x=\"2121\" y=\"-1190.3\" font-family=\"Helvetica,sans-Serif\" font-size=\"14.00\">class = Parkki</text>\n</g>\n<!-- 5&#45;&gt;69 -->\n<g id=\"edge69\" class=\"edge\">\n<title>5&#45;&gt;69</title>\n<path fill=\"none\" stroke=\"black\" d=\"M1991.7,-1293.91C2012.61,-1281.55 2035.52,-1268.01 2056.17,-1255.81\"/>\n<polygon fill=\"black\" stroke=\"black\" points=\"2058.04,-1258.77 2064.87,-1250.67 2054.48,-1252.74 2058.04,-1258.77\"/>\n</g>\n<!-- 7 -->\n<g id=\"node8\" class=\"node\">\n<title>7</title>\n<path fill=\"#e0fbe3\" stroke=\"black\" d=\"M1893,-1139C1893,-1139 1725,-1139 1725,-1139 1719,-1139 1713,-1133 1713,-1127 1713,-1127 1713,-1068 1713,-1068 1713,-1062 1719,-1056 1725,-1056 1725,-1056 1893,-1056 1893,-1056 1899,-1056 1905,-1062 1905,-1068 1905,-1068 1905,-1127 1905,-1127 1905,-1133 1899,-1139 1893,-1139\"/>\n<text text-anchor=\"middle\" x=\"1809\" y=\"-1123.8\" font-family=\"Helvetica,sans-Serif\" font-size=\"14.00\">Height &lt;= 7.401</text>\n<text text-anchor=\"middle\" x=\"1809\" y=\"-1108.8\" font-family=\"Helvetica,sans-Serif\" font-size=\"14.00\">gini = 0.678</text>\n<text text-anchor=\"middle\" x=\"1809\" y=\"-1093.8\" font-family=\"Helvetica,sans-Serif\" font-size=\"14.00\">samples = 56</text>\n<text text-anchor=\"middle\" x=\"1809\" y=\"-1078.8\" font-family=\"Helvetica,sans-Serif\" font-size=\"14.00\">value = [3, 10, 24, 0, 18, 0, 1]</text>\n<text text-anchor=\"middle\" x=\"1809\" y=\"-1063.8\" font-family=\"Helvetica,sans-Serif\" font-size=\"14.00\">class = Whitefish</text>\n</g>\n<!-- 6&#45;&gt;7 -->\n<g id=\"edge7\" class=\"edge\">\n<title>6&#45;&gt;7</title>\n<path fill=\"none\" stroke=\"black\" d=\"M1882.8,-1174.91C1873.94,-1165.74 1864.46,-1155.93 1855.35,-1146.49\"/>\n<polygon fill=\"black\" stroke=\"black\" points=\"1857.6,-1143.78 1848.14,-1139.02 1852.57,-1148.65 1857.6,-1143.78\"/>\n</g>\n<!-- 48 -->\n<g id=\"node49\" class=\"node\">\n<title>48</title>\n<path fill=\"#95f1a0\" stroke=\"black\" d=\"M2110.5,-1139C2110.5,-1139 1957.5,-1139 1957.5,-1139 1951.5,-1139 1945.5,-1133 1945.5,-1127 1945.5,-1127 1945.5,-1068 1945.5,-1068 1945.5,-1062 1951.5,-1056 1957.5,-1056 1957.5,-1056 2110.5,-1056 2110.5,-1056 2116.5,-1056 2122.5,-1062 2122.5,-1068 2122.5,-1068 2122.5,-1127 2122.5,-1127 2122.5,-1133 2116.5,-1139 2110.5,-1139\"/>\n<text text-anchor=\"middle\" x=\"2034\" y=\"-1123.8\" font-family=\"Helvetica,sans-Serif\" font-size=\"14.00\">Height &lt;= 6.938</text>\n<text text-anchor=\"middle\" x=\"2034\" y=\"-1108.8\" font-family=\"Helvetica,sans-Serif\" font-size=\"14.00\">gini = 0.558</text>\n<text text-anchor=\"middle\" x=\"2034\" y=\"-1093.8\" font-family=\"Helvetica,sans-Serif\" font-size=\"14.00\">samples = 37</text>\n<text text-anchor=\"middle\" x=\"2034\" y=\"-1078.8\" font-family=\"Helvetica,sans-Serif\" font-size=\"14.00\">value = [1, 0, 23, 7, 1, 0, 5]</text>\n<text text-anchor=\"middle\" x=\"2034\" y=\"-1063.8\" font-family=\"Helvetica,sans-Serif\" font-size=\"14.00\">class = Whitefish</text>\n</g>\n<!-- 6&#45;&gt;48 -->\n<g id=\"edge48\" class=\"edge\">\n<title>6&#45;&gt;48</title>\n<path fill=\"none\" stroke=\"black\" d=\"M1960.86,-1174.91C1969.63,-1165.74 1979.03,-1155.93 1988.06,-1146.49\"/>\n<polygon fill=\"black\" stroke=\"black\" points=\"1990.82,-1148.66 1995.21,-1139.02 1985.77,-1143.82 1990.82,-1148.66\"/>\n</g>\n<!-- 8 -->\n<g id=\"node9\" class=\"node\">\n<title>8</title>\n<path fill=\"#c2f7c8\" stroke=\"black\" d=\"M1166.5,-1020C1166.5,-1020 1005.5,-1020 1005.5,-1020 999.5,-1020 993.5,-1014 993.5,-1008 993.5,-1008 993.5,-949 993.5,-949 993.5,-943 999.5,-937 1005.5,-937 1005.5,-937 1166.5,-937 1166.5,-937 1172.5,-937 1178.5,-943 1178.5,-949 1178.5,-949 1178.5,-1008 1178.5,-1008 1178.5,-1014 1172.5,-1020 1166.5,-1020\"/>\n<text text-anchor=\"middle\" x=\"1086\" y=\"-1004.8\" font-family=\"Helvetica,sans-Serif\" font-size=\"14.00\">Height &lt;= 6.112</text>\n<text text-anchor=\"middle\" x=\"1086\" y=\"-989.8\" font-family=\"Helvetica,sans-Serif\" font-size=\"14.00\">gini = 0.526</text>\n<text text-anchor=\"middle\" x=\"1086\" y=\"-974.8\" font-family=\"Helvetica,sans-Serif\" font-size=\"14.00\">samples = 42</text>\n<text text-anchor=\"middle\" x=\"1086\" y=\"-959.8\" font-family=\"Helvetica,sans-Serif\" font-size=\"14.00\">value = [0, 2, 24, 0, 16, 0, 0]</text>\n<text text-anchor=\"middle\" x=\"1086\" y=\"-944.8\" font-family=\"Helvetica,sans-Serif\" font-size=\"14.00\">class = Whitefish</text>\n</g>\n<!-- 7&#45;&gt;8 -->\n<g id=\"edge8\" class=\"edge\">\n<title>7&#45;&gt;8</title>\n<path fill=\"none\" stroke=\"black\" d=\"M1712.99,-1080.96C1576.87,-1058.93 1328.8,-1018.79 1188.97,-996.16\"/>\n<polygon fill=\"black\" stroke=\"black\" points=\"1189.11,-992.64 1178.68,-994.5 1188,-999.55 1189.11,-992.64\"/>\n</g>\n<!-- 37 -->\n<g id=\"node38\" class=\"node\">\n<title>37</title>\n<path fill=\"#def3a5\" stroke=\"black\" d=\"M1882,-1020C1882,-1020 1736,-1020 1736,-1020 1730,-1020 1724,-1014 1724,-1008 1724,-1008 1724,-949 1724,-949 1724,-943 1730,-937 1736,-937 1736,-937 1882,-937 1882,-937 1888,-937 1894,-943 1894,-949 1894,-949 1894,-1008 1894,-1008 1894,-1014 1888,-1020 1882,-1020\"/>\n<text text-anchor=\"middle\" x=\"1809\" y=\"-1004.8\" font-family=\"Helvetica,sans-Serif\" font-size=\"14.00\">Height &lt;= 11.444</text>\n<text text-anchor=\"middle\" x=\"1809\" y=\"-989.8\" font-family=\"Helvetica,sans-Serif\" font-size=\"14.00\">gini = 0.602</text>\n<text text-anchor=\"middle\" x=\"1809\" y=\"-974.8\" font-family=\"Helvetica,sans-Serif\" font-size=\"14.00\">samples = 14</text>\n<text text-anchor=\"middle\" x=\"1809\" y=\"-959.8\" font-family=\"Helvetica,sans-Serif\" font-size=\"14.00\">value = [3, 8, 0, 0, 2, 0, 1]</text>\n<text text-anchor=\"middle\" x=\"1809\" y=\"-944.8\" font-family=\"Helvetica,sans-Serif\" font-size=\"14.00\">class = Roach</text>\n</g>\n<!-- 7&#45;&gt;37 -->\n<g id=\"edge37\" class=\"edge\">\n<title>7&#45;&gt;37</title>\n<path fill=\"none\" stroke=\"black\" d=\"M1809,-1055.91C1809,-1047.65 1809,-1038.86 1809,-1030.3\"/>\n<polygon fill=\"black\" stroke=\"black\" points=\"1812.5,-1030.02 1809,-1020.02 1805.5,-1030.02 1812.5,-1030.02\"/>\n</g>\n<!-- 9 -->\n<g id=\"node10\" class=\"node\">\n<title>9</title>\n<path fill=\"#77ed85\" stroke=\"black\" d=\"M872.5,-901C872.5,-901 719.5,-901 719.5,-901 713.5,-901 707.5,-895 707.5,-889 707.5,-889 707.5,-830 707.5,-830 707.5,-824 713.5,-818 719.5,-818 719.5,-818 872.5,-818 872.5,-818 878.5,-818 884.5,-824 884.5,-830 884.5,-830 884.5,-889 884.5,-889 884.5,-895 878.5,-901 872.5,-901\"/>\n<text text-anchor=\"middle\" x=\"796\" y=\"-885.8\" font-family=\"Helvetica,sans-Serif\" font-size=\"14.00\">Length3 &lt;= 24.6</text>\n<text text-anchor=\"middle\" x=\"796\" y=\"-870.8\" font-family=\"Helvetica,sans-Serif\" font-size=\"14.00\">gini = 0.363</text>\n<text text-anchor=\"middle\" x=\"796\" y=\"-855.8\" font-family=\"Helvetica,sans-Serif\" font-size=\"14.00\">samples = 21</text>\n<text text-anchor=\"middle\" x=\"796\" y=\"-840.8\" font-family=\"Helvetica,sans-Serif\" font-size=\"14.00\">value = [0, 0, 16, 0, 5, 0, 0]</text>\n<text text-anchor=\"middle\" x=\"796\" y=\"-825.8\" font-family=\"Helvetica,sans-Serif\" font-size=\"14.00\">class = Whitefish</text>\n</g>\n<!-- 8&#45;&gt;9 -->\n<g id=\"edge9\" class=\"edge\">\n<title>8&#45;&gt;9</title>\n<path fill=\"none\" stroke=\"black\" d=\"M993.44,-940.16C961.76,-927.38 926.22,-913.04 894.11,-900.08\"/>\n<polygon fill=\"black\" stroke=\"black\" points=\"895.3,-896.79 884.71,-896.29 892.68,-903.28 895.3,-896.79\"/>\n</g>\n<!-- 24 -->\n<g id=\"node25\" class=\"node\">\n<title>24</title>\n<path fill=\"#d1d8f9\" stroke=\"black\" d=\"M1162.5,-901C1162.5,-901 1009.5,-901 1009.5,-901 1003.5,-901 997.5,-895 997.5,-889 997.5,-889 997.5,-830 997.5,-830 997.5,-824 1003.5,-818 1009.5,-818 1009.5,-818 1162.5,-818 1162.5,-818 1168.5,-818 1174.5,-824 1174.5,-830 1174.5,-830 1174.5,-889 1174.5,-889 1174.5,-895 1168.5,-901 1162.5,-901\"/>\n<text text-anchor=\"middle\" x=\"1086\" y=\"-885.8\" font-family=\"Helvetica,sans-Serif\" font-size=\"14.00\">Length2 &lt;= 23.75</text>\n<text text-anchor=\"middle\" x=\"1086\" y=\"-870.8\" font-family=\"Helvetica,sans-Serif\" font-size=\"14.00\">gini = 0.571</text>\n<text text-anchor=\"middle\" x=\"1086\" y=\"-855.8\" font-family=\"Helvetica,sans-Serif\" font-size=\"14.00\">samples = 21</text>\n<text text-anchor=\"middle\" x=\"1086\" y=\"-840.8\" font-family=\"Helvetica,sans-Serif\" font-size=\"14.00\">value = [0, 2, 8, 0, 11, 0, 0]</text>\n<text text-anchor=\"middle\" x=\"1086\" y=\"-825.8\" font-family=\"Helvetica,sans-Serif\" font-size=\"14.00\">class = Perch</text>\n</g>\n<!-- 8&#45;&gt;24 -->\n<g id=\"edge24\" class=\"edge\">\n<title>8&#45;&gt;24</title>\n<path fill=\"none\" stroke=\"black\" d=\"M1086,-936.91C1086,-928.65 1086,-919.86 1086,-911.3\"/>\n<polygon fill=\"black\" stroke=\"black\" points=\"1089.5,-911.02 1086,-901.02 1082.5,-911.02 1089.5,-911.02\"/>\n</g>\n<!-- 10 -->\n<g id=\"node11\" class=\"node\">\n<title>10</title>\n<path fill=\"#6aec79\" stroke=\"black\" d=\"M680.5,-782C680.5,-782 527.5,-782 527.5,-782 521.5,-782 515.5,-776 515.5,-770 515.5,-770 515.5,-711 515.5,-711 515.5,-705 521.5,-699 527.5,-699 527.5,-699 680.5,-699 680.5,-699 686.5,-699 692.5,-705 692.5,-711 692.5,-711 692.5,-770 692.5,-770 692.5,-776 686.5,-782 680.5,-782\"/>\n<text text-anchor=\"middle\" x=\"604\" y=\"-766.8\" font-family=\"Helvetica,sans-Serif\" font-size=\"14.00\">Width &lt;= 2.923</text>\n<text text-anchor=\"middle\" x=\"604\" y=\"-751.8\" font-family=\"Helvetica,sans-Serif\" font-size=\"14.00\">gini = 0.32</text>\n<text text-anchor=\"middle\" x=\"604\" y=\"-736.8\" font-family=\"Helvetica,sans-Serif\" font-size=\"14.00\">samples = 20</text>\n<text text-anchor=\"middle\" x=\"604\" y=\"-721.8\" font-family=\"Helvetica,sans-Serif\" font-size=\"14.00\">value = [0, 0, 16, 0, 4, 0, 0]</text>\n<text text-anchor=\"middle\" x=\"604\" y=\"-706.8\" font-family=\"Helvetica,sans-Serif\" font-size=\"14.00\">class = Whitefish</text>\n</g>\n<!-- 9&#45;&gt;10 -->\n<g id=\"edge10\" class=\"edge\">\n<title>9&#45;&gt;10</title>\n<path fill=\"none\" stroke=\"black\" d=\"M729.39,-817.91C713.15,-808.02 695.68,-797.37 679.08,-787.25\"/>\n<polygon fill=\"black\" stroke=\"black\" points=\"680.86,-784.24 670.5,-782.02 677.21,-790.21 680.86,-784.24\"/>\n</g>\n<!-- 23 -->\n<g id=\"node24\" class=\"node\">\n<title>23</title>\n<path fill=\"#3956e5\" stroke=\"black\" d=\"M869,-774.5C869,-774.5 723,-774.5 723,-774.5 717,-774.5 711,-768.5 711,-762.5 711,-762.5 711,-718.5 711,-718.5 711,-712.5 717,-706.5 723,-706.5 723,-706.5 869,-706.5 869,-706.5 875,-706.5 881,-712.5 881,-718.5 881,-718.5 881,-762.5 881,-762.5 881,-768.5 875,-774.5 869,-774.5\"/>\n<text text-anchor=\"middle\" x=\"796\" y=\"-759.3\" font-family=\"Helvetica,sans-Serif\" font-size=\"14.00\">gini = 0.0</text>\n<text text-anchor=\"middle\" x=\"796\" y=\"-744.3\" font-family=\"Helvetica,sans-Serif\" font-size=\"14.00\">samples = 1</text>\n<text text-anchor=\"middle\" x=\"796\" y=\"-729.3\" font-family=\"Helvetica,sans-Serif\" font-size=\"14.00\">value = [0, 0, 0, 0, 1, 0, 0]</text>\n<text text-anchor=\"middle\" x=\"796\" y=\"-714.3\" font-family=\"Helvetica,sans-Serif\" font-size=\"14.00\">class = Perch</text>\n</g>\n<!-- 9&#45;&gt;23 -->\n<g id=\"edge23\" class=\"edge\">\n<title>9&#45;&gt;23</title>\n<path fill=\"none\" stroke=\"black\" d=\"M796,-817.91C796,-807.2 796,-795.62 796,-784.78\"/>\n<polygon fill=\"black\" stroke=\"black\" points=\"799.5,-784.67 796,-774.67 792.5,-784.67 799.5,-784.67\"/>\n</g>\n<!-- 11 -->\n<g id=\"node12\" class=\"node\">\n<title>11</title>\n<path fill=\"#ffffff\" stroke=\"black\" d=\"M485,-663C485,-663 339,-663 339,-663 333,-663 327,-657 327,-651 327,-651 327,-592 327,-592 327,-586 333,-580 339,-580 339,-580 485,-580 485,-580 491,-580 497,-586 497,-592 497,-592 497,-651 497,-651 497,-657 491,-663 485,-663\"/>\n<text text-anchor=\"middle\" x=\"412\" y=\"-647.8\" font-family=\"Helvetica,sans-Serif\" font-size=\"14.00\">Length2 &lt;= 17.2</text>\n<text text-anchor=\"middle\" x=\"412\" y=\"-632.8\" font-family=\"Helvetica,sans-Serif\" font-size=\"14.00\">gini = 0.5</text>\n<text text-anchor=\"middle\" x=\"412\" y=\"-617.8\" font-family=\"Helvetica,sans-Serif\" font-size=\"14.00\">samples = 6</text>\n<text text-anchor=\"middle\" x=\"412\" y=\"-602.8\" font-family=\"Helvetica,sans-Serif\" font-size=\"14.00\">value = [0, 0, 3, 0, 3, 0, 0]</text>\n<text text-anchor=\"middle\" x=\"412\" y=\"-587.8\" font-family=\"Helvetica,sans-Serif\" font-size=\"14.00\">class = Whitefish</text>\n</g>\n<!-- 10&#45;&gt;11 -->\n<g id=\"edge11\" class=\"edge\">\n<title>10&#45;&gt;11</title>\n<path fill=\"none\" stroke=\"black\" d=\"M537.39,-698.91C521.15,-689.02 503.68,-678.37 487.08,-668.25\"/>\n<polygon fill=\"black\" stroke=\"black\" points=\"488.86,-665.24 478.5,-663.02 485.21,-671.21 488.86,-665.24\"/>\n</g>\n<!-- 18 -->\n<g id=\"node19\" class=\"node\">\n<title>18</title>\n<path fill=\"#48e75b\" stroke=\"black\" d=\"M680.5,-663C680.5,-663 527.5,-663 527.5,-663 521.5,-663 515.5,-657 515.5,-651 515.5,-651 515.5,-592 515.5,-592 515.5,-586 521.5,-580 527.5,-580 527.5,-580 680.5,-580 680.5,-580 686.5,-580 692.5,-586 692.5,-592 692.5,-592 692.5,-651 692.5,-651 692.5,-657 686.5,-663 680.5,-663\"/>\n<text text-anchor=\"middle\" x=\"604\" y=\"-647.8\" font-family=\"Helvetica,sans-Serif\" font-size=\"14.00\">Weight &lt;= 93.5</text>\n<text text-anchor=\"middle\" x=\"604\" y=\"-632.8\" font-family=\"Helvetica,sans-Serif\" font-size=\"14.00\">gini = 0.133</text>\n<text text-anchor=\"middle\" x=\"604\" y=\"-617.8\" font-family=\"Helvetica,sans-Serif\" font-size=\"14.00\">samples = 14</text>\n<text text-anchor=\"middle\" x=\"604\" y=\"-602.8\" font-family=\"Helvetica,sans-Serif\" font-size=\"14.00\">value = [0, 0, 13, 0, 1, 0, 0]</text>\n<text text-anchor=\"middle\" x=\"604\" y=\"-587.8\" font-family=\"Helvetica,sans-Serif\" font-size=\"14.00\">class = Whitefish</text>\n</g>\n<!-- 10&#45;&gt;18 -->\n<g id=\"edge18\" class=\"edge\">\n<title>10&#45;&gt;18</title>\n<path fill=\"none\" stroke=\"black\" d=\"M604,-698.91C604,-690.65 604,-681.86 604,-673.3\"/>\n<polygon fill=\"black\" stroke=\"black\" points=\"607.5,-673.02 604,-663.02 600.5,-673.02 607.5,-673.02\"/>\n</g>\n<!-- 12 -->\n<g id=\"node13\" class=\"node\">\n<title>12</title>\n<path fill=\"#7bee88\" stroke=\"black\" d=\"M298,-544C298,-544 152,-544 152,-544 146,-544 140,-538 140,-532 140,-532 140,-473 140,-473 140,-467 146,-461 152,-461 152,-461 298,-461 298,-461 304,-461 310,-467 310,-473 310,-473 310,-532 310,-532 310,-538 304,-544 298,-544\"/>\n<text text-anchor=\"middle\" x=\"225\" y=\"-528.8\" font-family=\"Helvetica,sans-Serif\" font-size=\"14.00\">Length3 &lt;= 16.1</text>\n<text text-anchor=\"middle\" x=\"225\" y=\"-513.8\" font-family=\"Helvetica,sans-Serif\" font-size=\"14.00\">gini = 0.375</text>\n<text text-anchor=\"middle\" x=\"225\" y=\"-498.8\" font-family=\"Helvetica,sans-Serif\" font-size=\"14.00\">samples = 4</text>\n<text text-anchor=\"middle\" x=\"225\" y=\"-483.8\" font-family=\"Helvetica,sans-Serif\" font-size=\"14.00\">value = [0, 0, 3, 0, 1, 0, 0]</text>\n<text text-anchor=\"middle\" x=\"225\" y=\"-468.8\" font-family=\"Helvetica,sans-Serif\" font-size=\"14.00\">class = Whitefish</text>\n</g>\n<!-- 11&#45;&gt;12 -->\n<g id=\"edge12\" class=\"edge\">\n<title>11&#45;&gt;12</title>\n<path fill=\"none\" stroke=\"black\" d=\"M347.12,-579.91C331.46,-570.11 314.6,-559.56 298.57,-549.53\"/>\n<polygon fill=\"black\" stroke=\"black\" points=\"300.1,-546.36 289.76,-544.02 296.39,-552.29 300.1,-546.36\"/>\n</g>\n<!-- 17 -->\n<g id=\"node18\" class=\"node\">\n<title>17</title>\n<path fill=\"#3956e5\" stroke=\"black\" d=\"M486,-536.5C486,-536.5 340,-536.5 340,-536.5 334,-536.5 328,-530.5 328,-524.5 328,-524.5 328,-480.5 328,-480.5 328,-474.5 334,-468.5 340,-468.5 340,-468.5 486,-468.5 486,-468.5 492,-468.5 498,-474.5 498,-480.5 498,-480.5 498,-524.5 498,-524.5 498,-530.5 492,-536.5 486,-536.5\"/>\n<text text-anchor=\"middle\" x=\"413\" y=\"-521.3\" font-family=\"Helvetica,sans-Serif\" font-size=\"14.00\">gini = 0.0</text>\n<text text-anchor=\"middle\" x=\"413\" y=\"-506.3\" font-family=\"Helvetica,sans-Serif\" font-size=\"14.00\">samples = 2</text>\n<text text-anchor=\"middle\" x=\"413\" y=\"-491.3\" font-family=\"Helvetica,sans-Serif\" font-size=\"14.00\">value = [0, 0, 0, 0, 2, 0, 0]</text>\n<text text-anchor=\"middle\" x=\"413\" y=\"-476.3\" font-family=\"Helvetica,sans-Serif\" font-size=\"14.00\">class = Perch</text>\n</g>\n<!-- 11&#45;&gt;17 -->\n<g id=\"edge17\" class=\"edge\">\n<title>11&#45;&gt;17</title>\n<path fill=\"none\" stroke=\"black\" d=\"M412.35,-579.91C412.44,-569.2 412.54,-557.62 412.63,-546.78\"/>\n<polygon fill=\"black\" stroke=\"black\" points=\"416.13,-546.7 412.72,-536.67 409.13,-546.64 416.13,-546.7\"/>\n</g>\n<!-- 13 -->\n<g id=\"node14\" class=\"node\">\n<title>13</title>\n<path fill=\"#39e54d\" stroke=\"black\" d=\"M158,-417.5C158,-417.5 12,-417.5 12,-417.5 6,-417.5 0,-411.5 0,-405.5 0,-405.5 0,-361.5 0,-361.5 0,-355.5 6,-349.5 12,-349.5 12,-349.5 158,-349.5 158,-349.5 164,-349.5 170,-355.5 170,-361.5 170,-361.5 170,-405.5 170,-405.5 170,-411.5 164,-417.5 158,-417.5\"/>\n<text text-anchor=\"middle\" x=\"85\" y=\"-402.3\" font-family=\"Helvetica,sans-Serif\" font-size=\"14.00\">gini = 0.0</text>\n<text text-anchor=\"middle\" x=\"85\" y=\"-387.3\" font-family=\"Helvetica,sans-Serif\" font-size=\"14.00\">samples = 2</text>\n<text text-anchor=\"middle\" x=\"85\" y=\"-372.3\" font-family=\"Helvetica,sans-Serif\" font-size=\"14.00\">value = [0, 0, 2, 0, 0, 0, 0]</text>\n<text text-anchor=\"middle\" x=\"85\" y=\"-357.3\" font-family=\"Helvetica,sans-Serif\" font-size=\"14.00\">class = Whitefish</text>\n</g>\n<!-- 12&#45;&gt;13 -->\n<g id=\"edge13\" class=\"edge\">\n<title>12&#45;&gt;13</title>\n<path fill=\"none\" stroke=\"black\" d=\"M176.43,-460.91C162.17,-448.99 146.59,-435.98 132.41,-424.12\"/>\n<polygon fill=\"black\" stroke=\"black\" points=\"134.6,-421.39 124.69,-417.67 130.12,-426.77 134.6,-421.39\"/>\n</g>\n<!-- 14 -->\n<g id=\"node15\" class=\"node\">\n<title>14</title>\n<path fill=\"#ffffff\" stroke=\"black\" d=\"M346,-425C346,-425 200,-425 200,-425 194,-425 188,-419 188,-413 188,-413 188,-354 188,-354 188,-348 194,-342 200,-342 200,-342 346,-342 346,-342 352,-342 358,-348 358,-354 358,-354 358,-413 358,-413 358,-419 352,-425 346,-425\"/>\n<text text-anchor=\"middle\" x=\"273\" y=\"-409.8\" font-family=\"Helvetica,sans-Serif\" font-size=\"14.00\">Weight &lt;= 45.75</text>\n<text text-anchor=\"middle\" x=\"273\" y=\"-394.8\" font-family=\"Helvetica,sans-Serif\" font-size=\"14.00\">gini = 0.5</text>\n<text text-anchor=\"middle\" x=\"273\" y=\"-379.8\" font-family=\"Helvetica,sans-Serif\" font-size=\"14.00\">samples = 2</text>\n<text text-anchor=\"middle\" x=\"273\" y=\"-364.8\" font-family=\"Helvetica,sans-Serif\" font-size=\"14.00\">value = [0, 0, 1, 0, 1, 0, 0]</text>\n<text text-anchor=\"middle\" x=\"273\" y=\"-349.8\" font-family=\"Helvetica,sans-Serif\" font-size=\"14.00\">class = Whitefish</text>\n</g>\n<!-- 12&#45;&gt;14 -->\n<g id=\"edge14\" class=\"edge\">\n<title>12&#45;&gt;14</title>\n<path fill=\"none\" stroke=\"black\" d=\"M241.65,-460.91C245.15,-452.38 248.88,-443.28 252.51,-434.46\"/>\n<polygon fill=\"black\" stroke=\"black\" points=\"255.82,-435.6 256.38,-425.02 249.34,-432.94 255.82,-435.6\"/>\n</g>\n<!-- 15 -->\n<g id=\"node16\" class=\"node\">\n<title>15</title>\n<path fill=\"#3956e5\" stroke=\"black\" d=\"M252,-298.5C252,-298.5 106,-298.5 106,-298.5 100,-298.5 94,-292.5 94,-286.5 94,-286.5 94,-242.5 94,-242.5 94,-236.5 100,-230.5 106,-230.5 106,-230.5 252,-230.5 252,-230.5 258,-230.5 264,-236.5 264,-242.5 264,-242.5 264,-286.5 264,-286.5 264,-292.5 258,-298.5 252,-298.5\"/>\n<text text-anchor=\"middle\" x=\"179\" y=\"-283.3\" font-family=\"Helvetica,sans-Serif\" font-size=\"14.00\">gini = 0.0</text>\n<text text-anchor=\"middle\" x=\"179\" y=\"-268.3\" font-family=\"Helvetica,sans-Serif\" font-size=\"14.00\">samples = 1</text>\n<text text-anchor=\"middle\" x=\"179\" y=\"-253.3\" font-family=\"Helvetica,sans-Serif\" font-size=\"14.00\">value = [0, 0, 0, 0, 1, 0, 0]</text>\n<text text-anchor=\"middle\" x=\"179\" y=\"-238.3\" font-family=\"Helvetica,sans-Serif\" font-size=\"14.00\">class = Perch</text>\n</g>\n<!-- 14&#45;&gt;15 -->\n<g id=\"edge15\" class=\"edge\">\n<title>14&#45;&gt;15</title>\n<path fill=\"none\" stroke=\"black\" d=\"M240.39,-341.91C231.26,-330.54 221.32,-318.18 212.16,-306.77\"/>\n<polygon fill=\"black\" stroke=\"black\" points=\"214.64,-304.27 205.65,-298.67 209.18,-308.65 214.64,-304.27\"/>\n</g>\n<!-- 16 -->\n<g id=\"node17\" class=\"node\">\n<title>16</title>\n<path fill=\"#39e54d\" stroke=\"black\" d=\"M440,-298.5C440,-298.5 294,-298.5 294,-298.5 288,-298.5 282,-292.5 282,-286.5 282,-286.5 282,-242.5 282,-242.5 282,-236.5 288,-230.5 294,-230.5 294,-230.5 440,-230.5 440,-230.5 446,-230.5 452,-236.5 452,-242.5 452,-242.5 452,-286.5 452,-286.5 452,-292.5 446,-298.5 440,-298.5\"/>\n<text text-anchor=\"middle\" x=\"367\" y=\"-283.3\" font-family=\"Helvetica,sans-Serif\" font-size=\"14.00\">gini = 0.0</text>\n<text text-anchor=\"middle\" x=\"367\" y=\"-268.3\" font-family=\"Helvetica,sans-Serif\" font-size=\"14.00\">samples = 1</text>\n<text text-anchor=\"middle\" x=\"367\" y=\"-253.3\" font-family=\"Helvetica,sans-Serif\" font-size=\"14.00\">value = [0, 0, 1, 0, 0, 0, 0]</text>\n<text text-anchor=\"middle\" x=\"367\" y=\"-238.3\" font-family=\"Helvetica,sans-Serif\" font-size=\"14.00\">class = Whitefish</text>\n</g>\n<!-- 14&#45;&gt;16 -->\n<g id=\"edge16\" class=\"edge\">\n<title>14&#45;&gt;16</title>\n<path fill=\"none\" stroke=\"black\" d=\"M305.61,-341.91C314.74,-330.54 324.68,-318.18 333.84,-306.77\"/>\n<polygon fill=\"black\" stroke=\"black\" points=\"336.82,-308.65 340.35,-298.67 331.36,-304.27 336.82,-308.65\"/>\n</g>\n<!-- 19 -->\n<g id=\"node20\" class=\"node\">\n<title>19</title>\n<path fill=\"#6aec79\" stroke=\"black\" d=\"M676,-544C676,-544 530,-544 530,-544 524,-544 518,-538 518,-532 518,-532 518,-473 518,-473 518,-467 524,-461 530,-461 530,-461 676,-461 676,-461 682,-461 688,-467 688,-473 688,-473 688,-532 688,-532 688,-538 682,-544 676,-544\"/>\n<text text-anchor=\"middle\" x=\"603\" y=\"-528.8\" font-family=\"Helvetica,sans-Serif\" font-size=\"14.00\">Width &lt;= 3.149</text>\n<text text-anchor=\"middle\" x=\"603\" y=\"-513.8\" font-family=\"Helvetica,sans-Serif\" font-size=\"14.00\">gini = 0.32</text>\n<text text-anchor=\"middle\" x=\"603\" y=\"-498.8\" font-family=\"Helvetica,sans-Serif\" font-size=\"14.00\">samples = 5</text>\n<text text-anchor=\"middle\" x=\"603\" y=\"-483.8\" font-family=\"Helvetica,sans-Serif\" font-size=\"14.00\">value = [0, 0, 4, 0, 1, 0, 0]</text>\n<text text-anchor=\"middle\" x=\"603\" y=\"-468.8\" font-family=\"Helvetica,sans-Serif\" font-size=\"14.00\">class = Whitefish</text>\n</g>\n<!-- 18&#45;&gt;19 -->\n<g id=\"edge19\" class=\"edge\">\n<title>18&#45;&gt;19</title>\n<path fill=\"none\" stroke=\"black\" d=\"M603.65,-579.91C603.58,-571.65 603.51,-562.86 603.43,-554.3\"/>\n<polygon fill=\"black\" stroke=\"black\" points=\"606.93,-553.99 603.35,-544.02 599.93,-554.05 606.93,-553.99\"/>\n</g>\n<!-- 22 -->\n<g id=\"node23\" class=\"node\">\n<title>22</title>\n<path fill=\"#39e54d\" stroke=\"black\" d=\"M864,-536.5C864,-536.5 718,-536.5 718,-536.5 712,-536.5 706,-530.5 706,-524.5 706,-524.5 706,-480.5 706,-480.5 706,-474.5 712,-468.5 718,-468.5 718,-468.5 864,-468.5 864,-468.5 870,-468.5 876,-474.5 876,-480.5 876,-480.5 876,-524.5 876,-524.5 876,-530.5 870,-536.5 864,-536.5\"/>\n<text text-anchor=\"middle\" x=\"791\" y=\"-521.3\" font-family=\"Helvetica,sans-Serif\" font-size=\"14.00\">gini = 0.0</text>\n<text text-anchor=\"middle\" x=\"791\" y=\"-506.3\" font-family=\"Helvetica,sans-Serif\" font-size=\"14.00\">samples = 9</text>\n<text text-anchor=\"middle\" x=\"791\" y=\"-491.3\" font-family=\"Helvetica,sans-Serif\" font-size=\"14.00\">value = [0, 0, 9, 0, 0, 0, 0]</text>\n<text text-anchor=\"middle\" x=\"791\" y=\"-476.3\" font-family=\"Helvetica,sans-Serif\" font-size=\"14.00\">class = Whitefish</text>\n</g>\n<!-- 18&#45;&gt;22 -->\n<g id=\"edge22\" class=\"edge\">\n<title>18&#45;&gt;22</title>\n<path fill=\"none\" stroke=\"black\" d=\"M668.88,-579.91C688.46,-567.66 709.88,-554.25 729.25,-542.13\"/>\n<polygon fill=\"black\" stroke=\"black\" points=\"731.37,-544.94 737.99,-536.67 727.66,-539 731.37,-544.94\"/>\n</g>\n<!-- 20 -->\n<g id=\"node21\" class=\"node\">\n<title>20</title>\n<path fill=\"#39e54d\" stroke=\"black\" d=\"M628,-417.5C628,-417.5 482,-417.5 482,-417.5 476,-417.5 470,-411.5 470,-405.5 470,-405.5 470,-361.5 470,-361.5 470,-355.5 476,-349.5 482,-349.5 482,-349.5 628,-349.5 628,-349.5 634,-349.5 640,-355.5 640,-361.5 640,-361.5 640,-405.5 640,-405.5 640,-411.5 634,-417.5 628,-417.5\"/>\n<text text-anchor=\"middle\" x=\"555\" y=\"-402.3\" font-family=\"Helvetica,sans-Serif\" font-size=\"14.00\">gini = 0.0</text>\n<text text-anchor=\"middle\" x=\"555\" y=\"-387.3\" font-family=\"Helvetica,sans-Serif\" font-size=\"14.00\">samples = 4</text>\n<text text-anchor=\"middle\" x=\"555\" y=\"-372.3\" font-family=\"Helvetica,sans-Serif\" font-size=\"14.00\">value = [0, 0, 4, 0, 0, 0, 0]</text>\n<text text-anchor=\"middle\" x=\"555\" y=\"-357.3\" font-family=\"Helvetica,sans-Serif\" font-size=\"14.00\">class = Whitefish</text>\n</g>\n<!-- 19&#45;&gt;20 -->\n<g id=\"edge20\" class=\"edge\">\n<title>19&#45;&gt;20</title>\n<path fill=\"none\" stroke=\"black\" d=\"M586.35,-460.91C581.86,-449.98 577,-438.14 572.48,-427.11\"/>\n<polygon fill=\"black\" stroke=\"black\" points=\"575.64,-425.59 568.61,-417.67 569.16,-428.25 575.64,-425.59\"/>\n</g>\n<!-- 21 -->\n<g id=\"node22\" class=\"node\">\n<title>21</title>\n<path fill=\"#3956e5\" stroke=\"black\" d=\"M816,-417.5C816,-417.5 670,-417.5 670,-417.5 664,-417.5 658,-411.5 658,-405.5 658,-405.5 658,-361.5 658,-361.5 658,-355.5 664,-349.5 670,-349.5 670,-349.5 816,-349.5 816,-349.5 822,-349.5 828,-355.5 828,-361.5 828,-361.5 828,-405.5 828,-405.5 828,-411.5 822,-417.5 816,-417.5\"/>\n<text text-anchor=\"middle\" x=\"743\" y=\"-402.3\" font-family=\"Helvetica,sans-Serif\" font-size=\"14.00\">gini = 0.0</text>\n<text text-anchor=\"middle\" x=\"743\" y=\"-387.3\" font-family=\"Helvetica,sans-Serif\" font-size=\"14.00\">samples = 1</text>\n<text text-anchor=\"middle\" x=\"743\" y=\"-372.3\" font-family=\"Helvetica,sans-Serif\" font-size=\"14.00\">value = [0, 0, 0, 0, 1, 0, 0]</text>\n<text text-anchor=\"middle\" x=\"743\" y=\"-357.3\" font-family=\"Helvetica,sans-Serif\" font-size=\"14.00\">class = Perch</text>\n</g>\n<!-- 19&#45;&gt;21 -->\n<g id=\"edge21\" class=\"edge\">\n<title>19&#45;&gt;21</title>\n<path fill=\"none\" stroke=\"black\" d=\"M651.57,-460.91C665.83,-448.99 681.41,-435.98 695.59,-424.12\"/>\n<polygon fill=\"black\" stroke=\"black\" points=\"697.88,-426.77 703.31,-417.67 693.4,-421.39 697.88,-426.77\"/>\n</g>\n<!-- 25 -->\n<g id=\"node26\" class=\"node\">\n<title>25</title>\n<path fill=\"#8c9cf0\" stroke=\"black\" d=\"M1064.5,-782C1064.5,-782 911.5,-782 911.5,-782 905.5,-782 899.5,-776 899.5,-770 899.5,-770 899.5,-711 899.5,-711 899.5,-705 905.5,-699 911.5,-699 911.5,-699 1064.5,-699 1064.5,-699 1070.5,-699 1076.5,-705 1076.5,-711 1076.5,-711 1076.5,-770 1076.5,-770 1076.5,-776 1070.5,-782 1064.5,-782\"/>\n<text text-anchor=\"middle\" x=\"988\" y=\"-766.8\" font-family=\"Helvetica,sans-Serif\" font-size=\"14.00\">Length2 &lt;= 17.75</text>\n<text text-anchor=\"middle\" x=\"988\" y=\"-751.8\" font-family=\"Helvetica,sans-Serif\" font-size=\"14.00\">gini = 0.498</text>\n<text text-anchor=\"middle\" x=\"988\" y=\"-736.8\" font-family=\"Helvetica,sans-Serif\" font-size=\"14.00\">samples = 15</text>\n<text text-anchor=\"middle\" x=\"988\" y=\"-721.8\" font-family=\"Helvetica,sans-Serif\" font-size=\"14.00\">value = [0, 2, 3, 0, 10, 0, 0]</text>\n<text text-anchor=\"middle\" x=\"988\" y=\"-706.8\" font-family=\"Helvetica,sans-Serif\" font-size=\"14.00\">class = Perch</text>\n</g>\n<!-- 24&#45;&gt;25 -->\n<g id=\"edge25\" class=\"edge\">\n<title>24&#45;&gt;25</title>\n<path fill=\"none\" stroke=\"black\" d=\"M1052,-817.91C1044.4,-808.83 1036.26,-799.12 1028.43,-789.77\"/>\n<polygon fill=\"black\" stroke=\"black\" points=\"1031.04,-787.44 1021.94,-782.02 1025.68,-791.93 1031.04,-787.44\"/>\n</g>\n<!-- 34 -->\n<g id=\"node35\" class=\"node\">\n<title>34</title>\n<path fill=\"#61ea71\" stroke=\"black\" d=\"M1253,-782C1253,-782 1107,-782 1107,-782 1101,-782 1095,-776 1095,-770 1095,-770 1095,-711 1095,-711 1095,-705 1101,-699 1107,-699 1107,-699 1253,-699 1253,-699 1259,-699 1265,-705 1265,-711 1265,-711 1265,-770 1265,-770 1265,-776 1259,-782 1253,-782\"/>\n<text text-anchor=\"middle\" x=\"1180\" y=\"-766.8\" font-family=\"Helvetica,sans-Serif\" font-size=\"14.00\">Length1 &lt;= 23.55</text>\n<text text-anchor=\"middle\" x=\"1180\" y=\"-751.8\" font-family=\"Helvetica,sans-Serif\" font-size=\"14.00\">gini = 0.278</text>\n<text text-anchor=\"middle\" x=\"1180\" y=\"-736.8\" font-family=\"Helvetica,sans-Serif\" font-size=\"14.00\">samples = 6</text>\n<text text-anchor=\"middle\" x=\"1180\" y=\"-721.8\" font-family=\"Helvetica,sans-Serif\" font-size=\"14.00\">value = [0, 0, 5, 0, 1, 0, 0]</text>\n<text text-anchor=\"middle\" x=\"1180\" y=\"-706.8\" font-family=\"Helvetica,sans-Serif\" font-size=\"14.00\">class = Whitefish</text>\n</g>\n<!-- 24&#45;&gt;34 -->\n<g id=\"edge34\" class=\"edge\">\n<title>24&#45;&gt;34</title>\n<path fill=\"none\" stroke=\"black\" d=\"M1118.61,-817.91C1125.83,-808.92 1133.55,-799.32 1140.99,-790.05\"/>\n<polygon fill=\"black\" stroke=\"black\" points=\"1143.91,-792.01 1147.44,-782.02 1138.45,-787.62 1143.91,-792.01\"/>\n</g>\n<!-- 26 -->\n<g id=\"node27\" class=\"node\">\n<title>26</title>\n<path fill=\"#b7e539\" stroke=\"black\" d=\"M869,-655.5C869,-655.5 723,-655.5 723,-655.5 717,-655.5 711,-649.5 711,-643.5 711,-643.5 711,-599.5 711,-599.5 711,-593.5 717,-587.5 723,-587.5 723,-587.5 869,-587.5 869,-587.5 875,-587.5 881,-593.5 881,-599.5 881,-599.5 881,-643.5 881,-643.5 881,-649.5 875,-655.5 869,-655.5\"/>\n<text text-anchor=\"middle\" x=\"796\" y=\"-640.3\" font-family=\"Helvetica,sans-Serif\" font-size=\"14.00\">gini = 0.0</text>\n<text text-anchor=\"middle\" x=\"796\" y=\"-625.3\" font-family=\"Helvetica,sans-Serif\" font-size=\"14.00\">samples = 2</text>\n<text text-anchor=\"middle\" x=\"796\" y=\"-610.3\" font-family=\"Helvetica,sans-Serif\" font-size=\"14.00\">value = [0, 2, 0, 0, 0, 0, 0]</text>\n<text text-anchor=\"middle\" x=\"796\" y=\"-595.3\" font-family=\"Helvetica,sans-Serif\" font-size=\"14.00\">class = Roach</text>\n</g>\n<!-- 25&#45;&gt;26 -->\n<g id=\"edge26\" class=\"edge\">\n<title>25&#45;&gt;26</title>\n<path fill=\"none\" stroke=\"black\" d=\"M921.39,-698.91C901.2,-686.6 879.09,-673.13 859.13,-660.97\"/>\n<polygon fill=\"black\" stroke=\"black\" points=\"860.79,-657.88 850.43,-655.67 857.15,-663.86 860.79,-657.88\"/>\n</g>\n<!-- 27 -->\n<g id=\"node28\" class=\"node\">\n<title>27</title>\n<path fill=\"#7489ed\" stroke=\"black\" d=\"M1064.5,-663C1064.5,-663 911.5,-663 911.5,-663 905.5,-663 899.5,-657 899.5,-651 899.5,-651 899.5,-592 899.5,-592 899.5,-586 905.5,-580 911.5,-580 911.5,-580 1064.5,-580 1064.5,-580 1070.5,-580 1076.5,-586 1076.5,-592 1076.5,-592 1076.5,-651 1076.5,-651 1076.5,-657 1070.5,-663 1064.5,-663\"/>\n<text text-anchor=\"middle\" x=\"988\" y=\"-647.8\" font-family=\"Helvetica,sans-Serif\" font-size=\"14.00\">Weight &lt;= 125.0</text>\n<text text-anchor=\"middle\" x=\"988\" y=\"-632.8\" font-family=\"Helvetica,sans-Serif\" font-size=\"14.00\">gini = 0.355</text>\n<text text-anchor=\"middle\" x=\"988\" y=\"-617.8\" font-family=\"Helvetica,sans-Serif\" font-size=\"14.00\">samples = 13</text>\n<text text-anchor=\"middle\" x=\"988\" y=\"-602.8\" font-family=\"Helvetica,sans-Serif\" font-size=\"14.00\">value = [0, 0, 3, 0, 10, 0, 0]</text>\n<text text-anchor=\"middle\" x=\"988\" y=\"-587.8\" font-family=\"Helvetica,sans-Serif\" font-size=\"14.00\">class = Perch</text>\n</g>\n<!-- 25&#45;&gt;27 -->\n<g id=\"edge27\" class=\"edge\">\n<title>25&#45;&gt;27</title>\n<path fill=\"none\" stroke=\"black\" d=\"M988,-698.91C988,-690.65 988,-681.86 988,-673.3\"/>\n<polygon fill=\"black\" stroke=\"black\" points=\"991.5,-673.02 988,-663.02 984.5,-673.02 991.5,-673.02\"/>\n</g>\n<!-- 28 -->\n<g id=\"node29\" class=\"node\">\n<title>28</title>\n<path fill=\"#3956e5\" stroke=\"black\" d=\"M1057,-536.5C1057,-536.5 911,-536.5 911,-536.5 905,-536.5 899,-530.5 899,-524.5 899,-524.5 899,-480.5 899,-480.5 899,-474.5 905,-468.5 911,-468.5 911,-468.5 1057,-468.5 1057,-468.5 1063,-468.5 1069,-474.5 1069,-480.5 1069,-480.5 1069,-524.5 1069,-524.5 1069,-530.5 1063,-536.5 1057,-536.5\"/>\n<text text-anchor=\"middle\" x=\"984\" y=\"-521.3\" font-family=\"Helvetica,sans-Serif\" font-size=\"14.00\">gini = 0.0</text>\n<text text-anchor=\"middle\" x=\"984\" y=\"-506.3\" font-family=\"Helvetica,sans-Serif\" font-size=\"14.00\">samples = 4</text>\n<text text-anchor=\"middle\" x=\"984\" y=\"-491.3\" font-family=\"Helvetica,sans-Serif\" font-size=\"14.00\">value = [0, 0, 0, 0, 4, 0, 0]</text>\n<text text-anchor=\"middle\" x=\"984\" y=\"-476.3\" font-family=\"Helvetica,sans-Serif\" font-size=\"14.00\">class = Perch</text>\n</g>\n<!-- 27&#45;&gt;28 -->\n<g id=\"edge28\" class=\"edge\">\n<title>27&#45;&gt;28</title>\n<path fill=\"none\" stroke=\"black\" d=\"M986.61,-579.91C986.25,-569.2 985.85,-557.62 985.48,-546.78\"/>\n<polygon fill=\"black\" stroke=\"black\" points=\"988.97,-546.54 985.13,-536.67 981.98,-546.78 988.97,-546.54\"/>\n</g>\n<!-- 29 -->\n<g id=\"node30\" class=\"node\">\n<title>29</title>\n<path fill=\"#9caaf2\" stroke=\"black\" d=\"M1245,-544C1245,-544 1099,-544 1099,-544 1093,-544 1087,-538 1087,-532 1087,-532 1087,-473 1087,-473 1087,-467 1093,-461 1099,-461 1099,-461 1245,-461 1245,-461 1251,-461 1257,-467 1257,-473 1257,-473 1257,-532 1257,-532 1257,-538 1251,-544 1245,-544\"/>\n<text text-anchor=\"middle\" x=\"1172\" y=\"-528.8\" font-family=\"Helvetica,sans-Serif\" font-size=\"14.00\">Height &lt;= 6.392</text>\n<text text-anchor=\"middle\" x=\"1172\" y=\"-513.8\" font-family=\"Helvetica,sans-Serif\" font-size=\"14.00\">gini = 0.444</text>\n<text text-anchor=\"middle\" x=\"1172\" y=\"-498.8\" font-family=\"Helvetica,sans-Serif\" font-size=\"14.00\">samples = 9</text>\n<text text-anchor=\"middle\" x=\"1172\" y=\"-483.8\" font-family=\"Helvetica,sans-Serif\" font-size=\"14.00\">value = [0, 0, 3, 0, 6, 0, 0]</text>\n<text text-anchor=\"middle\" x=\"1172\" y=\"-468.8\" font-family=\"Helvetica,sans-Serif\" font-size=\"14.00\">class = Perch</text>\n</g>\n<!-- 27&#45;&gt;29 -->\n<g id=\"edge29\" class=\"edge\">\n<title>27&#45;&gt;29</title>\n<path fill=\"none\" stroke=\"black\" d=\"M1051.84,-579.91C1067.25,-570.11 1083.83,-559.56 1099.61,-549.53\"/>\n<polygon fill=\"black\" stroke=\"black\" points=\"1101.71,-552.34 1108.27,-544.02 1097.96,-546.43 1101.71,-552.34\"/>\n</g>\n<!-- 30 -->\n<g id=\"node31\" class=\"node\">\n<title>30</title>\n<path fill=\"#39e54d\" stroke=\"black\" d=\"M1151,-417.5C1151,-417.5 1005,-417.5 1005,-417.5 999,-417.5 993,-411.5 993,-405.5 993,-405.5 993,-361.5 993,-361.5 993,-355.5 999,-349.5 1005,-349.5 1005,-349.5 1151,-349.5 1151,-349.5 1157,-349.5 1163,-355.5 1163,-361.5 1163,-361.5 1163,-405.5 1163,-405.5 1163,-411.5 1157,-417.5 1151,-417.5\"/>\n<text text-anchor=\"middle\" x=\"1078\" y=\"-402.3\" font-family=\"Helvetica,sans-Serif\" font-size=\"14.00\">gini = 0.0</text>\n<text text-anchor=\"middle\" x=\"1078\" y=\"-387.3\" font-family=\"Helvetica,sans-Serif\" font-size=\"14.00\">samples = 2</text>\n<text text-anchor=\"middle\" x=\"1078\" y=\"-372.3\" font-family=\"Helvetica,sans-Serif\" font-size=\"14.00\">value = [0, 0, 2, 0, 0, 0, 0]</text>\n<text text-anchor=\"middle\" x=\"1078\" y=\"-357.3\" font-family=\"Helvetica,sans-Serif\" font-size=\"14.00\">class = Whitefish</text>\n</g>\n<!-- 29&#45;&gt;30 -->\n<g id=\"edge30\" class=\"edge\">\n<title>29&#45;&gt;30</title>\n<path fill=\"none\" stroke=\"black\" d=\"M1139.39,-460.91C1130.26,-449.54 1120.32,-437.18 1111.16,-425.77\"/>\n<polygon fill=\"black\" stroke=\"black\" points=\"1113.64,-423.27 1104.65,-417.67 1108.18,-427.65 1113.64,-423.27\"/>\n</g>\n<!-- 31 -->\n<g id=\"node32\" class=\"node\">\n<title>31</title>\n<path fill=\"#5a72e9\" stroke=\"black\" d=\"M1339,-425C1339,-425 1193,-425 1193,-425 1187,-425 1181,-419 1181,-413 1181,-413 1181,-354 1181,-354 1181,-348 1187,-342 1193,-342 1193,-342 1339,-342 1339,-342 1345,-342 1351,-348 1351,-354 1351,-354 1351,-413 1351,-413 1351,-419 1345,-425 1339,-425\"/>\n<text text-anchor=\"middle\" x=\"1266\" y=\"-409.8\" font-family=\"Helvetica,sans-Serif\" font-size=\"14.00\">Length3 &lt;= 24.15</text>\n<text text-anchor=\"middle\" x=\"1266\" y=\"-394.8\" font-family=\"Helvetica,sans-Serif\" font-size=\"14.00\">gini = 0.245</text>\n<text text-anchor=\"middle\" x=\"1266\" y=\"-379.8\" font-family=\"Helvetica,sans-Serif\" font-size=\"14.00\">samples = 7</text>\n<text text-anchor=\"middle\" x=\"1266\" y=\"-364.8\" font-family=\"Helvetica,sans-Serif\" font-size=\"14.00\">value = [0, 0, 1, 0, 6, 0, 0]</text>\n<text text-anchor=\"middle\" x=\"1266\" y=\"-349.8\" font-family=\"Helvetica,sans-Serif\" font-size=\"14.00\">class = Perch</text>\n</g>\n<!-- 29&#45;&gt;31 -->\n<g id=\"edge31\" class=\"edge\">\n<title>29&#45;&gt;31</title>\n<path fill=\"none\" stroke=\"black\" d=\"M1204.61,-460.91C1211.83,-451.92 1219.55,-442.32 1226.99,-433.05\"/>\n<polygon fill=\"black\" stroke=\"black\" points=\"1229.91,-435.01 1233.44,-425.02 1224.45,-430.62 1229.91,-435.01\"/>\n</g>\n<!-- 32 -->\n<g id=\"node33\" class=\"node\">\n<title>32</title>\n<path fill=\"#39e54d\" stroke=\"black\" d=\"M1245,-298.5C1245,-298.5 1099,-298.5 1099,-298.5 1093,-298.5 1087,-292.5 1087,-286.5 1087,-286.5 1087,-242.5 1087,-242.5 1087,-236.5 1093,-230.5 1099,-230.5 1099,-230.5 1245,-230.5 1245,-230.5 1251,-230.5 1257,-236.5 1257,-242.5 1257,-242.5 1257,-286.5 1257,-286.5 1257,-292.5 1251,-298.5 1245,-298.5\"/>\n<text text-anchor=\"middle\" x=\"1172\" y=\"-283.3\" font-family=\"Helvetica,sans-Serif\" font-size=\"14.00\">gini = 0.0</text>\n<text text-anchor=\"middle\" x=\"1172\" y=\"-268.3\" font-family=\"Helvetica,sans-Serif\" font-size=\"14.00\">samples = 1</text>\n<text text-anchor=\"middle\" x=\"1172\" y=\"-253.3\" font-family=\"Helvetica,sans-Serif\" font-size=\"14.00\">value = [0, 0, 1, 0, 0, 0, 0]</text>\n<text text-anchor=\"middle\" x=\"1172\" y=\"-238.3\" font-family=\"Helvetica,sans-Serif\" font-size=\"14.00\">class = Whitefish</text>\n</g>\n<!-- 31&#45;&gt;32 -->\n<g id=\"edge32\" class=\"edge\">\n<title>31&#45;&gt;32</title>\n<path fill=\"none\" stroke=\"black\" d=\"M1233.39,-341.91C1224.26,-330.54 1214.32,-318.18 1205.16,-306.77\"/>\n<polygon fill=\"black\" stroke=\"black\" points=\"1207.64,-304.27 1198.65,-298.67 1202.18,-308.65 1207.64,-304.27\"/>\n</g>\n<!-- 33 -->\n<g id=\"node34\" class=\"node\">\n<title>33</title>\n<path fill=\"#3956e5\" stroke=\"black\" d=\"M1433,-298.5C1433,-298.5 1287,-298.5 1287,-298.5 1281,-298.5 1275,-292.5 1275,-286.5 1275,-286.5 1275,-242.5 1275,-242.5 1275,-236.5 1281,-230.5 1287,-230.5 1287,-230.5 1433,-230.5 1433,-230.5 1439,-230.5 1445,-236.5 1445,-242.5 1445,-242.5 1445,-286.5 1445,-286.5 1445,-292.5 1439,-298.5 1433,-298.5\"/>\n<text text-anchor=\"middle\" x=\"1360\" y=\"-283.3\" font-family=\"Helvetica,sans-Serif\" font-size=\"14.00\">gini = 0.0</text>\n<text text-anchor=\"middle\" x=\"1360\" y=\"-268.3\" font-family=\"Helvetica,sans-Serif\" font-size=\"14.00\">samples = 6</text>\n<text text-anchor=\"middle\" x=\"1360\" y=\"-253.3\" font-family=\"Helvetica,sans-Serif\" font-size=\"14.00\">value = [0, 0, 0, 0, 6, 0, 0]</text>\n<text text-anchor=\"middle\" x=\"1360\" y=\"-238.3\" font-family=\"Helvetica,sans-Serif\" font-size=\"14.00\">class = Perch</text>\n</g>\n<!-- 31&#45;&gt;33 -->\n<g id=\"edge33\" class=\"edge\">\n<title>31&#45;&gt;33</title>\n<path fill=\"none\" stroke=\"black\" d=\"M1298.61,-341.91C1307.74,-330.54 1317.68,-318.18 1326.84,-306.77\"/>\n<polygon fill=\"black\" stroke=\"black\" points=\"1329.82,-308.65 1333.35,-298.67 1324.36,-304.27 1329.82,-308.65\"/>\n</g>\n<!-- 35 -->\n<g id=\"node36\" class=\"node\">\n<title>35</title>\n<path fill=\"#39e54d\" stroke=\"black\" d=\"M1253,-655.5C1253,-655.5 1107,-655.5 1107,-655.5 1101,-655.5 1095,-649.5 1095,-643.5 1095,-643.5 1095,-599.5 1095,-599.5 1095,-593.5 1101,-587.5 1107,-587.5 1107,-587.5 1253,-587.5 1253,-587.5 1259,-587.5 1265,-593.5 1265,-599.5 1265,-599.5 1265,-643.5 1265,-643.5 1265,-649.5 1259,-655.5 1253,-655.5\"/>\n<text text-anchor=\"middle\" x=\"1180\" y=\"-640.3\" font-family=\"Helvetica,sans-Serif\" font-size=\"14.00\">gini = 0.0</text>\n<text text-anchor=\"middle\" x=\"1180\" y=\"-625.3\" font-family=\"Helvetica,sans-Serif\" font-size=\"14.00\">samples = 5</text>\n<text text-anchor=\"middle\" x=\"1180\" y=\"-610.3\" font-family=\"Helvetica,sans-Serif\" font-size=\"14.00\">value = [0, 0, 5, 0, 0, 0, 0]</text>\n<text text-anchor=\"middle\" x=\"1180\" y=\"-595.3\" font-family=\"Helvetica,sans-Serif\" font-size=\"14.00\">class = Whitefish</text>\n</g>\n<!-- 34&#45;&gt;35 -->\n<g id=\"edge35\" class=\"edge\">\n<title>34&#45;&gt;35</title>\n<path fill=\"none\" stroke=\"black\" d=\"M1180,-698.91C1180,-688.2 1180,-676.62 1180,-665.78\"/>\n<polygon fill=\"black\" stroke=\"black\" points=\"1183.5,-665.67 1180,-655.67 1176.5,-665.67 1183.5,-665.67\"/>\n</g>\n<!-- 36 -->\n<g id=\"node37\" class=\"node\">\n<title>36</title>\n<path fill=\"#3956e5\" stroke=\"black\" d=\"M1441,-655.5C1441,-655.5 1295,-655.5 1295,-655.5 1289,-655.5 1283,-649.5 1283,-643.5 1283,-643.5 1283,-599.5 1283,-599.5 1283,-593.5 1289,-587.5 1295,-587.5 1295,-587.5 1441,-587.5 1441,-587.5 1447,-587.5 1453,-593.5 1453,-599.5 1453,-599.5 1453,-643.5 1453,-643.5 1453,-649.5 1447,-655.5 1441,-655.5\"/>\n<text text-anchor=\"middle\" x=\"1368\" y=\"-640.3\" font-family=\"Helvetica,sans-Serif\" font-size=\"14.00\">gini = 0.0</text>\n<text text-anchor=\"middle\" x=\"1368\" y=\"-625.3\" font-family=\"Helvetica,sans-Serif\" font-size=\"14.00\">samples = 1</text>\n<text text-anchor=\"middle\" x=\"1368\" y=\"-610.3\" font-family=\"Helvetica,sans-Serif\" font-size=\"14.00\">value = [0, 0, 0, 0, 1, 0, 0]</text>\n<text text-anchor=\"middle\" x=\"1368\" y=\"-595.3\" font-family=\"Helvetica,sans-Serif\" font-size=\"14.00\">class = Perch</text>\n</g>\n<!-- 34&#45;&gt;36 -->\n<g id=\"edge36\" class=\"edge\">\n<title>34&#45;&gt;36</title>\n<path fill=\"none\" stroke=\"black\" d=\"M1245.23,-698.91C1265,-686.6 1286.64,-673.13 1306.18,-660.97\"/>\n<polygon fill=\"black\" stroke=\"black\" points=\"1308.07,-663.92 1314.71,-655.67 1304.37,-657.98 1308.07,-663.92\"/>\n</g>\n<!-- 38 -->\n<g id=\"node39\" class=\"node\">\n<title>38</title>\n<path fill=\"#cfee7b\" stroke=\"black\" d=\"M1839,-901C1839,-901 1693,-901 1693,-901 1687,-901 1681,-895 1681,-889 1681,-889 1681,-830 1681,-830 1681,-824 1687,-818 1693,-818 1693,-818 1839,-818 1839,-818 1845,-818 1851,-824 1851,-830 1851,-830 1851,-889 1851,-889 1851,-895 1845,-901 1839,-901\"/>\n<text text-anchor=\"middle\" x=\"1766\" y=\"-885.8\" font-family=\"Helvetica,sans-Serif\" font-size=\"14.00\">Width &lt;= 4.241</text>\n<text text-anchor=\"middle\" x=\"1766\" y=\"-870.8\" font-family=\"Helvetica,sans-Serif\" font-size=\"14.00\">gini = 0.43</text>\n<text text-anchor=\"middle\" x=\"1766\" y=\"-855.8\" font-family=\"Helvetica,sans-Serif\" font-size=\"14.00\">samples = 11</text>\n<text text-anchor=\"middle\" x=\"1766\" y=\"-840.8\" font-family=\"Helvetica,sans-Serif\" font-size=\"14.00\">value = [0, 8, 0, 0, 2, 0, 1]</text>\n<text text-anchor=\"middle\" x=\"1766\" y=\"-825.8\" font-family=\"Helvetica,sans-Serif\" font-size=\"14.00\">class = Roach</text>\n</g>\n<!-- 37&#45;&gt;38 -->\n<g id=\"edge38\" class=\"edge\">\n<title>37&#45;&gt;38</title>\n<path fill=\"none\" stroke=\"black\" d=\"M1794.08,-936.91C1790.95,-928.38 1787.6,-919.28 1784.36,-910.46\"/>\n<polygon fill=\"black\" stroke=\"black\" points=\"1787.63,-909.2 1780.89,-901.02 1781.06,-911.61 1787.63,-909.2\"/>\n</g>\n<!-- 47 -->\n<g id=\"node48\" class=\"node\">\n<title>47</title>\n<path fill=\"#e58139\" stroke=\"black\" d=\"M2027,-893.5C2027,-893.5 1881,-893.5 1881,-893.5 1875,-893.5 1869,-887.5 1869,-881.5 1869,-881.5 1869,-837.5 1869,-837.5 1869,-831.5 1875,-825.5 1881,-825.5 1881,-825.5 2027,-825.5 2027,-825.5 2033,-825.5 2039,-831.5 2039,-837.5 2039,-837.5 2039,-881.5 2039,-881.5 2039,-887.5 2033,-893.5 2027,-893.5\"/>\n<text text-anchor=\"middle\" x=\"1954\" y=\"-878.3\" font-family=\"Helvetica,sans-Serif\" font-size=\"14.00\">gini = 0.0</text>\n<text text-anchor=\"middle\" x=\"1954\" y=\"-863.3\" font-family=\"Helvetica,sans-Serif\" font-size=\"14.00\">samples = 3</text>\n<text text-anchor=\"middle\" x=\"1954\" y=\"-848.3\" font-family=\"Helvetica,sans-Serif\" font-size=\"14.00\">value = [3, 0, 0, 0, 0, 0, 0]</text>\n<text text-anchor=\"middle\" x=\"1954\" y=\"-833.3\" font-family=\"Helvetica,sans-Serif\" font-size=\"14.00\">class = Bream</text>\n</g>\n<!-- 37&#45;&gt;47 -->\n<g id=\"edge47\" class=\"edge\">\n<title>37&#45;&gt;47</title>\n<path fill=\"none\" stroke=\"black\" d=\"M1859.31,-936.91C1874.08,-924.99 1890.21,-911.98 1904.9,-900.12\"/>\n<polygon fill=\"black\" stroke=\"black\" points=\"1907.31,-902.67 1912.9,-893.67 1902.92,-897.22 1907.31,-902.67\"/>\n</g>\n<!-- 39 -->\n<g id=\"node40\" class=\"node\">\n<title>39</title>\n<path fill=\"#c0e852\" stroke=\"black\" d=\"M1817,-782C1817,-782 1671,-782 1671,-782 1665,-782 1659,-776 1659,-770 1659,-770 1659,-711 1659,-711 1659,-705 1665,-699 1671,-699 1671,-699 1817,-699 1817,-699 1823,-699 1829,-705 1829,-711 1829,-711 1829,-770 1829,-770 1829,-776 1823,-782 1817,-782\"/>\n<text text-anchor=\"middle\" x=\"1744\" y=\"-766.8\" font-family=\"Helvetica,sans-Serif\" font-size=\"14.00\">Height &lt;= 7.963</text>\n<text text-anchor=\"middle\" x=\"1744\" y=\"-751.8\" font-family=\"Helvetica,sans-Serif\" font-size=\"14.00\">gini = 0.198</text>\n<text text-anchor=\"middle\" x=\"1744\" y=\"-736.8\" font-family=\"Helvetica,sans-Serif\" font-size=\"14.00\">samples = 9</text>\n<text text-anchor=\"middle\" x=\"1744\" y=\"-721.8\" font-family=\"Helvetica,sans-Serif\" font-size=\"14.00\">value = [0, 8, 0, 0, 1, 0, 0]</text>\n<text text-anchor=\"middle\" x=\"1744\" y=\"-706.8\" font-family=\"Helvetica,sans-Serif\" font-size=\"14.00\">class = Roach</text>\n</g>\n<!-- 38&#45;&gt;39 -->\n<g id=\"edge39\" class=\"edge\">\n<title>38&#45;&gt;39</title>\n<path fill=\"none\" stroke=\"black\" d=\"M1758.37,-817.91C1756.8,-809.56 1755.13,-800.67 1753.5,-792.02\"/>\n<polygon fill=\"black\" stroke=\"black\" points=\"1756.91,-791.2 1751.62,-782.02 1750.03,-792.5 1756.91,-791.2\"/>\n</g>\n<!-- 44 -->\n<g id=\"node45\" class=\"node\">\n<title>44</title>\n<path fill=\"#ffffff\" stroke=\"black\" d=\"M2005,-782C2005,-782 1859,-782 1859,-782 1853,-782 1847,-776 1847,-770 1847,-770 1847,-711 1847,-711 1847,-705 1853,-699 1859,-699 1859,-699 2005,-699 2005,-699 2011,-699 2017,-705 2017,-711 2017,-711 2017,-770 2017,-770 2017,-776 2011,-782 2005,-782\"/>\n<text text-anchor=\"middle\" x=\"1932\" y=\"-766.8\" font-family=\"Helvetica,sans-Serif\" font-size=\"14.00\">Length3 &lt;= 28.95</text>\n<text text-anchor=\"middle\" x=\"1932\" y=\"-751.8\" font-family=\"Helvetica,sans-Serif\" font-size=\"14.00\">gini = 0.5</text>\n<text text-anchor=\"middle\" x=\"1932\" y=\"-736.8\" font-family=\"Helvetica,sans-Serif\" font-size=\"14.00\">samples = 2</text>\n<text text-anchor=\"middle\" x=\"1932\" y=\"-721.8\" font-family=\"Helvetica,sans-Serif\" font-size=\"14.00\">value = [0, 0, 0, 0, 1, 0, 1]</text>\n<text text-anchor=\"middle\" x=\"1932\" y=\"-706.8\" font-family=\"Helvetica,sans-Serif\" font-size=\"14.00\">class = Perch</text>\n</g>\n<!-- 38&#45;&gt;44 -->\n<g id=\"edge44\" class=\"edge\">\n<title>38&#45;&gt;44</title>\n<path fill=\"none\" stroke=\"black\" d=\"M1823.59,-817.91C1837.37,-808.2 1852.18,-797.76 1866.29,-787.81\"/>\n<polygon fill=\"black\" stroke=\"black\" points=\"1868.35,-790.64 1874.51,-782.02 1864.32,-784.92 1868.35,-790.64\"/>\n</g>\n<!-- 40 -->\n<g id=\"node41\" class=\"node\">\n<title>40</title>\n<path fill=\"#ffffff\" stroke=\"black\" d=\"M1629,-663C1629,-663 1483,-663 1483,-663 1477,-663 1471,-657 1471,-651 1471,-651 1471,-592 1471,-592 1471,-586 1477,-580 1483,-580 1483,-580 1629,-580 1629,-580 1635,-580 1641,-586 1641,-592 1641,-592 1641,-651 1641,-651 1641,-657 1635,-663 1629,-663\"/>\n<text text-anchor=\"middle\" x=\"1556\" y=\"-647.8\" font-family=\"Helvetica,sans-Serif\" font-size=\"14.00\">Length2 &lt;= 20.85</text>\n<text text-anchor=\"middle\" x=\"1556\" y=\"-632.8\" font-family=\"Helvetica,sans-Serif\" font-size=\"14.00\">gini = 0.5</text>\n<text text-anchor=\"middle\" x=\"1556\" y=\"-617.8\" font-family=\"Helvetica,sans-Serif\" font-size=\"14.00\">samples = 2</text>\n<text text-anchor=\"middle\" x=\"1556\" y=\"-602.8\" font-family=\"Helvetica,sans-Serif\" font-size=\"14.00\">value = [0, 1, 0, 0, 1, 0, 0]</text>\n<text text-anchor=\"middle\" x=\"1556\" y=\"-587.8\" font-family=\"Helvetica,sans-Serif\" font-size=\"14.00\">class = Roach</text>\n</g>\n<!-- 39&#45;&gt;40 -->\n<g id=\"edge40\" class=\"edge\">\n<title>39&#45;&gt;40</title>\n<path fill=\"none\" stroke=\"black\" d=\"M1678.77,-698.91C1663.03,-689.11 1646.08,-678.56 1629.97,-668.53\"/>\n<polygon fill=\"black\" stroke=\"black\" points=\"1631.45,-665.33 1621.11,-663.02 1627.75,-671.28 1631.45,-665.33\"/>\n</g>\n<!-- 43 -->\n<g id=\"node44\" class=\"node\">\n<title>43</title>\n<path fill=\"#b7e539\" stroke=\"black\" d=\"M1817,-655.5C1817,-655.5 1671,-655.5 1671,-655.5 1665,-655.5 1659,-649.5 1659,-643.5 1659,-643.5 1659,-599.5 1659,-599.5 1659,-593.5 1665,-587.5 1671,-587.5 1671,-587.5 1817,-587.5 1817,-587.5 1823,-587.5 1829,-593.5 1829,-599.5 1829,-599.5 1829,-643.5 1829,-643.5 1829,-649.5 1823,-655.5 1817,-655.5\"/>\n<text text-anchor=\"middle\" x=\"1744\" y=\"-640.3\" font-family=\"Helvetica,sans-Serif\" font-size=\"14.00\">gini = 0.0</text>\n<text text-anchor=\"middle\" x=\"1744\" y=\"-625.3\" font-family=\"Helvetica,sans-Serif\" font-size=\"14.00\">samples = 7</text>\n<text text-anchor=\"middle\" x=\"1744\" y=\"-610.3\" font-family=\"Helvetica,sans-Serif\" font-size=\"14.00\">value = [0, 7, 0, 0, 0, 0, 0]</text>\n<text text-anchor=\"middle\" x=\"1744\" y=\"-595.3\" font-family=\"Helvetica,sans-Serif\" font-size=\"14.00\">class = Roach</text>\n</g>\n<!-- 39&#45;&gt;43 -->\n<g id=\"edge43\" class=\"edge\">\n<title>39&#45;&gt;43</title>\n<path fill=\"none\" stroke=\"black\" d=\"M1744,-698.91C1744,-688.2 1744,-676.62 1744,-665.78\"/>\n<polygon fill=\"black\" stroke=\"black\" points=\"1747.5,-665.67 1744,-655.67 1740.5,-665.67 1747.5,-665.67\"/>\n</g>\n<!-- 41 -->\n<g id=\"node42\" class=\"node\">\n<title>41</title>\n<path fill=\"#b7e539\" stroke=\"black\" d=\"M1535,-536.5C1535,-536.5 1389,-536.5 1389,-536.5 1383,-536.5 1377,-530.5 1377,-524.5 1377,-524.5 1377,-480.5 1377,-480.5 1377,-474.5 1383,-468.5 1389,-468.5 1389,-468.5 1535,-468.5 1535,-468.5 1541,-468.5 1547,-474.5 1547,-480.5 1547,-480.5 1547,-524.5 1547,-524.5 1547,-530.5 1541,-536.5 1535,-536.5\"/>\n<text text-anchor=\"middle\" x=\"1462\" y=\"-521.3\" font-family=\"Helvetica,sans-Serif\" font-size=\"14.00\">gini = 0.0</text>\n<text text-anchor=\"middle\" x=\"1462\" y=\"-506.3\" font-family=\"Helvetica,sans-Serif\" font-size=\"14.00\">samples = 1</text>\n<text text-anchor=\"middle\" x=\"1462\" y=\"-491.3\" font-family=\"Helvetica,sans-Serif\" font-size=\"14.00\">value = [0, 1, 0, 0, 0, 0, 0]</text>\n<text text-anchor=\"middle\" x=\"1462\" y=\"-476.3\" font-family=\"Helvetica,sans-Serif\" font-size=\"14.00\">class = Roach</text>\n</g>\n<!-- 40&#45;&gt;41 -->\n<g id=\"edge41\" class=\"edge\">\n<title>40&#45;&gt;41</title>\n<path fill=\"none\" stroke=\"black\" d=\"M1523.39,-579.91C1514.26,-568.54 1504.32,-556.18 1495.16,-544.77\"/>\n<polygon fill=\"black\" stroke=\"black\" points=\"1497.64,-542.27 1488.65,-536.67 1492.18,-546.65 1497.64,-542.27\"/>\n</g>\n<!-- 42 -->\n<g id=\"node43\" class=\"node\">\n<title>42</title>\n<path fill=\"#3956e5\" stroke=\"black\" d=\"M1723,-536.5C1723,-536.5 1577,-536.5 1577,-536.5 1571,-536.5 1565,-530.5 1565,-524.5 1565,-524.5 1565,-480.5 1565,-480.5 1565,-474.5 1571,-468.5 1577,-468.5 1577,-468.5 1723,-468.5 1723,-468.5 1729,-468.5 1735,-474.5 1735,-480.5 1735,-480.5 1735,-524.5 1735,-524.5 1735,-530.5 1729,-536.5 1723,-536.5\"/>\n<text text-anchor=\"middle\" x=\"1650\" y=\"-521.3\" font-family=\"Helvetica,sans-Serif\" font-size=\"14.00\">gini = 0.0</text>\n<text text-anchor=\"middle\" x=\"1650\" y=\"-506.3\" font-family=\"Helvetica,sans-Serif\" font-size=\"14.00\">samples = 1</text>\n<text text-anchor=\"middle\" x=\"1650\" y=\"-491.3\" font-family=\"Helvetica,sans-Serif\" font-size=\"14.00\">value = [0, 0, 0, 0, 1, 0, 0]</text>\n<text text-anchor=\"middle\" x=\"1650\" y=\"-476.3\" font-family=\"Helvetica,sans-Serif\" font-size=\"14.00\">class = Perch</text>\n</g>\n<!-- 40&#45;&gt;42 -->\n<g id=\"edge42\" class=\"edge\">\n<title>40&#45;&gt;42</title>\n<path fill=\"none\" stroke=\"black\" d=\"M1588.61,-579.91C1597.74,-568.54 1607.68,-556.18 1616.84,-544.77\"/>\n<polygon fill=\"black\" stroke=\"black\" points=\"1619.82,-546.65 1623.35,-536.67 1614.36,-542.27 1619.82,-546.65\"/>\n</g>\n<!-- 45 -->\n<g id=\"node46\" class=\"node\">\n<title>45</title>\n<path fill=\"#e53986\" stroke=\"black\" d=\"M2005,-655.5C2005,-655.5 1859,-655.5 1859,-655.5 1853,-655.5 1847,-649.5 1847,-643.5 1847,-643.5 1847,-599.5 1847,-599.5 1847,-593.5 1853,-587.5 1859,-587.5 1859,-587.5 2005,-587.5 2005,-587.5 2011,-587.5 2017,-593.5 2017,-599.5 2017,-599.5 2017,-643.5 2017,-643.5 2017,-649.5 2011,-655.5 2005,-655.5\"/>\n<text text-anchor=\"middle\" x=\"1932\" y=\"-640.3\" font-family=\"Helvetica,sans-Serif\" font-size=\"14.00\">gini = 0.0</text>\n<text text-anchor=\"middle\" x=\"1932\" y=\"-625.3\" font-family=\"Helvetica,sans-Serif\" font-size=\"14.00\">samples = 1</text>\n<text text-anchor=\"middle\" x=\"1932\" y=\"-610.3\" font-family=\"Helvetica,sans-Serif\" font-size=\"14.00\">value = [0, 0, 0, 0, 0, 0, 1]</text>\n<text text-anchor=\"middle\" x=\"1932\" y=\"-595.3\" font-family=\"Helvetica,sans-Serif\" font-size=\"14.00\">class = Smelt</text>\n</g>\n<!-- 44&#45;&gt;45 -->\n<g id=\"edge45\" class=\"edge\">\n<title>44&#45;&gt;45</title>\n<path fill=\"none\" stroke=\"black\" d=\"M1932,-698.91C1932,-688.2 1932,-676.62 1932,-665.78\"/>\n<polygon fill=\"black\" stroke=\"black\" points=\"1935.5,-665.67 1932,-655.67 1928.5,-665.67 1935.5,-665.67\"/>\n</g>\n<!-- 46 -->\n<g id=\"node47\" class=\"node\">\n<title>46</title>\n<path fill=\"#3956e5\" stroke=\"black\" d=\"M2193,-655.5C2193,-655.5 2047,-655.5 2047,-655.5 2041,-655.5 2035,-649.5 2035,-643.5 2035,-643.5 2035,-599.5 2035,-599.5 2035,-593.5 2041,-587.5 2047,-587.5 2047,-587.5 2193,-587.5 2193,-587.5 2199,-587.5 2205,-593.5 2205,-599.5 2205,-599.5 2205,-643.5 2205,-643.5 2205,-649.5 2199,-655.5 2193,-655.5\"/>\n<text text-anchor=\"middle\" x=\"2120\" y=\"-640.3\" font-family=\"Helvetica,sans-Serif\" font-size=\"14.00\">gini = 0.0</text>\n<text text-anchor=\"middle\" x=\"2120\" y=\"-625.3\" font-family=\"Helvetica,sans-Serif\" font-size=\"14.00\">samples = 1</text>\n<text text-anchor=\"middle\" x=\"2120\" y=\"-610.3\" font-family=\"Helvetica,sans-Serif\" font-size=\"14.00\">value = [0, 0, 0, 0, 1, 0, 0]</text>\n<text text-anchor=\"middle\" x=\"2120\" y=\"-595.3\" font-family=\"Helvetica,sans-Serif\" font-size=\"14.00\">class = Perch</text>\n</g>\n<!-- 44&#45;&gt;46 -->\n<g id=\"edge46\" class=\"edge\">\n<title>44&#45;&gt;46</title>\n<path fill=\"none\" stroke=\"black\" d=\"M1997.23,-698.91C2017,-686.6 2038.64,-673.13 2058.18,-660.97\"/>\n<polygon fill=\"black\" stroke=\"black\" points=\"2060.07,-663.92 2066.71,-655.67 2056.37,-657.98 2060.07,-663.92\"/>\n</g>\n<!-- 49 -->\n<g id=\"node50\" class=\"node\">\n<title>49</title>\n<path fill=\"#39e5e2\" stroke=\"black\" d=\"M2107,-1012.5C2107,-1012.5 1961,-1012.5 1961,-1012.5 1955,-1012.5 1949,-1006.5 1949,-1000.5 1949,-1000.5 1949,-956.5 1949,-956.5 1949,-950.5 1955,-944.5 1961,-944.5 1961,-944.5 2107,-944.5 2107,-944.5 2113,-944.5 2119,-950.5 2119,-956.5 2119,-956.5 2119,-1000.5 2119,-1000.5 2119,-1006.5 2113,-1012.5 2107,-1012.5\"/>\n<text text-anchor=\"middle\" x=\"2034\" y=\"-997.3\" font-family=\"Helvetica,sans-Serif\" font-size=\"14.00\">gini = 0.0</text>\n<text text-anchor=\"middle\" x=\"2034\" y=\"-982.3\" font-family=\"Helvetica,sans-Serif\" font-size=\"14.00\">samples = 5</text>\n<text text-anchor=\"middle\" x=\"2034\" y=\"-967.3\" font-family=\"Helvetica,sans-Serif\" font-size=\"14.00\">value = [0, 0, 0, 5, 0, 0, 0]</text>\n<text text-anchor=\"middle\" x=\"2034\" y=\"-952.3\" font-family=\"Helvetica,sans-Serif\" font-size=\"14.00\">class = Parkki</text>\n</g>\n<!-- 48&#45;&gt;49 -->\n<g id=\"edge49\" class=\"edge\">\n<title>48&#45;&gt;49</title>\n<path fill=\"none\" stroke=\"black\" d=\"M2034,-1055.91C2034,-1045.2 2034,-1033.62 2034,-1022.78\"/>\n<polygon fill=\"black\" stroke=\"black\" points=\"2037.5,-1022.67 2034,-1012.67 2030.5,-1022.67 2037.5,-1022.67\"/>\n</g>\n<!-- 50 -->\n<g id=\"node51\" class=\"node\">\n<title>50</title>\n<path fill=\"#7bee88\" stroke=\"black\" d=\"M2388.5,-1020C2388.5,-1020 2235.5,-1020 2235.5,-1020 2229.5,-1020 2223.5,-1014 2223.5,-1008 2223.5,-1008 2223.5,-949 2223.5,-949 2223.5,-943 2229.5,-937 2235.5,-937 2235.5,-937 2388.5,-937 2388.5,-937 2394.5,-937 2400.5,-943 2400.5,-949 2400.5,-949 2400.5,-1008 2400.5,-1008 2400.5,-1014 2394.5,-1020 2388.5,-1020\"/>\n<text text-anchor=\"middle\" x=\"2312\" y=\"-1004.8\" font-family=\"Helvetica,sans-Serif\" font-size=\"14.00\">Width &lt;= 6.602</text>\n<text text-anchor=\"middle\" x=\"2312\" y=\"-989.8\" font-family=\"Helvetica,sans-Serif\" font-size=\"14.00\">gini = 0.453</text>\n<text text-anchor=\"middle\" x=\"2312\" y=\"-974.8\" font-family=\"Helvetica,sans-Serif\" font-size=\"14.00\">samples = 32</text>\n<text text-anchor=\"middle\" x=\"2312\" y=\"-959.8\" font-family=\"Helvetica,sans-Serif\" font-size=\"14.00\">value = [1, 0, 23, 2, 1, 0, 5]</text>\n<text text-anchor=\"middle\" x=\"2312\" y=\"-944.8\" font-family=\"Helvetica,sans-Serif\" font-size=\"14.00\">class = Whitefish</text>\n</g>\n<!-- 48&#45;&gt;50 -->\n<g id=\"edge50\" class=\"edge\">\n<title>48&#45;&gt;50</title>\n<path fill=\"none\" stroke=\"black\" d=\"M2122.73,-1059.16C2151.69,-1046.97 2184.02,-1033.36 2213.65,-1020.89\"/>\n<polygon fill=\"black\" stroke=\"black\" points=\"2215.3,-1023.99 2223.16,-1016.89 2212.59,-1017.54 2215.3,-1023.99\"/>\n</g>\n<!-- 51 -->\n<g id=\"node52\" class=\"node\">\n<title>51</title>\n<path fill=\"#b0f5b8\" stroke=\"black\" d=\"M2388.5,-901C2388.5,-901 2235.5,-901 2235.5,-901 2229.5,-901 2223.5,-895 2223.5,-889 2223.5,-889 2223.5,-830 2223.5,-830 2223.5,-824 2229.5,-818 2235.5,-818 2235.5,-818 2388.5,-818 2388.5,-818 2394.5,-818 2400.5,-824 2400.5,-830 2400.5,-830 2400.5,-889 2400.5,-889 2400.5,-895 2394.5,-901 2388.5,-901\"/>\n<text text-anchor=\"middle\" x=\"2312\" y=\"-885.8\" font-family=\"Helvetica,sans-Serif\" font-size=\"14.00\">Width &lt;= 6.446</text>\n<text text-anchor=\"middle\" x=\"2312\" y=\"-870.8\" font-family=\"Helvetica,sans-Serif\" font-size=\"14.00\">gini = 0.62</text>\n<text text-anchor=\"middle\" x=\"2312\" y=\"-855.8\" font-family=\"Helvetica,sans-Serif\" font-size=\"14.00\">samples = 20</text>\n<text text-anchor=\"middle\" x=\"2312\" y=\"-840.8\" font-family=\"Helvetica,sans-Serif\" font-size=\"14.00\">value = [1, 0, 11, 2, 1, 0, 5]</text>\n<text text-anchor=\"middle\" x=\"2312\" y=\"-825.8\" font-family=\"Helvetica,sans-Serif\" font-size=\"14.00\">class = Whitefish</text>\n</g>\n<!-- 50&#45;&gt;51 -->\n<g id=\"edge51\" class=\"edge\">\n<title>50&#45;&gt;51</title>\n<path fill=\"none\" stroke=\"black\" d=\"M2312,-936.91C2312,-928.65 2312,-919.86 2312,-911.3\"/>\n<polygon fill=\"black\" stroke=\"black\" points=\"2315.5,-911.02 2312,-901.02 2308.5,-911.02 2315.5,-911.02\"/>\n</g>\n<!-- 68 -->\n<g id=\"node69\" class=\"node\">\n<title>68</title>\n<path fill=\"#39e54d\" stroke=\"black\" d=\"M2583.5,-893.5C2583.5,-893.5 2430.5,-893.5 2430.5,-893.5 2424.5,-893.5 2418.5,-887.5 2418.5,-881.5 2418.5,-881.5 2418.5,-837.5 2418.5,-837.5 2418.5,-831.5 2424.5,-825.5 2430.5,-825.5 2430.5,-825.5 2583.5,-825.5 2583.5,-825.5 2589.5,-825.5 2595.5,-831.5 2595.5,-837.5 2595.5,-837.5 2595.5,-881.5 2595.5,-881.5 2595.5,-887.5 2589.5,-893.5 2583.5,-893.5\"/>\n<text text-anchor=\"middle\" x=\"2507\" y=\"-878.3\" font-family=\"Helvetica,sans-Serif\" font-size=\"14.00\">gini = 0.0</text>\n<text text-anchor=\"middle\" x=\"2507\" y=\"-863.3\" font-family=\"Helvetica,sans-Serif\" font-size=\"14.00\">samples = 12</text>\n<text text-anchor=\"middle\" x=\"2507\" y=\"-848.3\" font-family=\"Helvetica,sans-Serif\" font-size=\"14.00\">value = [0, 0, 12, 0, 0, 0, 0]</text>\n<text text-anchor=\"middle\" x=\"2507\" y=\"-833.3\" font-family=\"Helvetica,sans-Serif\" font-size=\"14.00\">class = Whitefish</text>\n</g>\n<!-- 50&#45;&gt;68 -->\n<g id=\"edge68\" class=\"edge\">\n<title>50&#45;&gt;68</title>\n<path fill=\"none\" stroke=\"black\" d=\"M2379.65,-936.91C2400.16,-924.6 2422.62,-911.13 2442.88,-898.97\"/>\n<polygon fill=\"black\" stroke=\"black\" points=\"2444.95,-901.81 2451.72,-893.67 2441.35,-895.81 2444.95,-901.81\"/>\n</g>\n<!-- 52 -->\n<g id=\"node53\" class=\"node\">\n<title>52</title>\n<path fill=\"#88ef94\" stroke=\"black\" d=\"M2388.5,-782C2388.5,-782 2235.5,-782 2235.5,-782 2229.5,-782 2223.5,-776 2223.5,-770 2223.5,-770 2223.5,-711 2223.5,-711 2223.5,-705 2229.5,-699 2235.5,-699 2235.5,-699 2388.5,-699 2388.5,-699 2394.5,-699 2400.5,-705 2400.5,-711 2400.5,-711 2400.5,-770 2400.5,-770 2400.5,-776 2394.5,-782 2388.5,-782\"/>\n<text text-anchor=\"middle\" x=\"2312\" y=\"-766.8\" font-family=\"Helvetica,sans-Serif\" font-size=\"14.00\">Length1 &lt;= 35.05</text>\n<text text-anchor=\"middle\" x=\"2312\" y=\"-751.8\" font-family=\"Helvetica,sans-Serif\" font-size=\"14.00\">gini = 0.547</text>\n<text text-anchor=\"middle\" x=\"2312\" y=\"-736.8\" font-family=\"Helvetica,sans-Serif\" font-size=\"14.00\">samples = 17</text>\n<text text-anchor=\"middle\" x=\"2312\" y=\"-721.8\" font-family=\"Helvetica,sans-Serif\" font-size=\"14.00\">value = [1, 0, 11, 2, 1, 0, 2]</text>\n<text text-anchor=\"middle\" x=\"2312\" y=\"-706.8\" font-family=\"Helvetica,sans-Serif\" font-size=\"14.00\">class = Whitefish</text>\n</g>\n<!-- 51&#45;&gt;52 -->\n<g id=\"edge52\" class=\"edge\">\n<title>51&#45;&gt;52</title>\n<path fill=\"none\" stroke=\"black\" d=\"M2312,-817.91C2312,-809.65 2312,-800.86 2312,-792.3\"/>\n<polygon fill=\"black\" stroke=\"black\" points=\"2315.5,-792.02 2312,-782.02 2308.5,-792.02 2315.5,-792.02\"/>\n</g>\n<!-- 67 -->\n<g id=\"node68\" class=\"node\">\n<title>67</title>\n<path fill=\"#e53986\" stroke=\"black\" d=\"M2577,-774.5C2577,-774.5 2431,-774.5 2431,-774.5 2425,-774.5 2419,-768.5 2419,-762.5 2419,-762.5 2419,-718.5 2419,-718.5 2419,-712.5 2425,-706.5 2431,-706.5 2431,-706.5 2577,-706.5 2577,-706.5 2583,-706.5 2589,-712.5 2589,-718.5 2589,-718.5 2589,-762.5 2589,-762.5 2589,-768.5 2583,-774.5 2577,-774.5\"/>\n<text text-anchor=\"middle\" x=\"2504\" y=\"-759.3\" font-family=\"Helvetica,sans-Serif\" font-size=\"14.00\">gini = 0.0</text>\n<text text-anchor=\"middle\" x=\"2504\" y=\"-744.3\" font-family=\"Helvetica,sans-Serif\" font-size=\"14.00\">samples = 3</text>\n<text text-anchor=\"middle\" x=\"2504\" y=\"-729.3\" font-family=\"Helvetica,sans-Serif\" font-size=\"14.00\">value = [0, 0, 0, 0, 0, 0, 3]</text>\n<text text-anchor=\"middle\" x=\"2504\" y=\"-714.3\" font-family=\"Helvetica,sans-Serif\" font-size=\"14.00\">class = Smelt</text>\n</g>\n<!-- 51&#45;&gt;67 -->\n<g id=\"edge67\" class=\"edge\">\n<title>51&#45;&gt;67</title>\n<path fill=\"none\" stroke=\"black\" d=\"M2378.61,-817.91C2398.8,-805.6 2420.91,-792.13 2440.87,-779.97\"/>\n<polygon fill=\"black\" stroke=\"black\" points=\"2442.85,-782.86 2449.57,-774.67 2439.21,-776.88 2442.85,-782.86\"/>\n</g>\n<!-- 53 -->\n<g id=\"node54\" class=\"node\">\n<title>53</title>\n<path fill=\"#7bee88\" stroke=\"black\" d=\"M2388.5,-663C2388.5,-663 2235.5,-663 2235.5,-663 2229.5,-663 2223.5,-657 2223.5,-651 2223.5,-651 2223.5,-592 2223.5,-592 2223.5,-586 2229.5,-580 2235.5,-580 2235.5,-580 2388.5,-580 2388.5,-580 2394.5,-580 2400.5,-586 2400.5,-592 2400.5,-592 2400.5,-651 2400.5,-651 2400.5,-657 2394.5,-663 2388.5,-663\"/>\n<text text-anchor=\"middle\" x=\"2312\" y=\"-647.8\" font-family=\"Helvetica,sans-Serif\" font-size=\"14.00\">Height &lt;= 7.983</text>\n<text text-anchor=\"middle\" x=\"2312\" y=\"-632.8\" font-family=\"Helvetica,sans-Serif\" font-size=\"14.00\">gini = 0.459</text>\n<text text-anchor=\"middle\" x=\"2312\" y=\"-617.8\" font-family=\"Helvetica,sans-Serif\" font-size=\"14.00\">samples = 14</text>\n<text text-anchor=\"middle\" x=\"2312\" y=\"-602.8\" font-family=\"Helvetica,sans-Serif\" font-size=\"14.00\">value = [1, 0, 10, 0, 1, 0, 2]</text>\n<text text-anchor=\"middle\" x=\"2312\" y=\"-587.8\" font-family=\"Helvetica,sans-Serif\" font-size=\"14.00\">class = Whitefish</text>\n</g>\n<!-- 52&#45;&gt;53 -->\n<g id=\"edge53\" class=\"edge\">\n<title>52&#45;&gt;53</title>\n<path fill=\"none\" stroke=\"black\" d=\"M2312,-698.91C2312,-690.65 2312,-681.86 2312,-673.3\"/>\n<polygon fill=\"black\" stroke=\"black\" points=\"2315.5,-673.02 2312,-663.02 2308.5,-673.02 2315.5,-673.02\"/>\n</g>\n<!-- 64 -->\n<g id=\"node65\" class=\"node\">\n<title>64</title>\n<path fill=\"#9cf2f0\" stroke=\"black\" d=\"M2577,-663C2577,-663 2431,-663 2431,-663 2425,-663 2419,-657 2419,-651 2419,-651 2419,-592 2419,-592 2419,-586 2425,-580 2431,-580 2431,-580 2577,-580 2577,-580 2583,-580 2589,-586 2589,-592 2589,-592 2589,-651 2589,-651 2589,-657 2583,-663 2577,-663\"/>\n<text text-anchor=\"middle\" x=\"2504\" y=\"-647.8\" font-family=\"Helvetica,sans-Serif\" font-size=\"14.00\">Height &lt;= 9.213</text>\n<text text-anchor=\"middle\" x=\"2504\" y=\"-632.8\" font-family=\"Helvetica,sans-Serif\" font-size=\"14.00\">gini = 0.444</text>\n<text text-anchor=\"middle\" x=\"2504\" y=\"-617.8\" font-family=\"Helvetica,sans-Serif\" font-size=\"14.00\">samples = 3</text>\n<text text-anchor=\"middle\" x=\"2504\" y=\"-602.8\" font-family=\"Helvetica,sans-Serif\" font-size=\"14.00\">value = [0, 0, 1, 2, 0, 0, 0]</text>\n<text text-anchor=\"middle\" x=\"2504\" y=\"-587.8\" font-family=\"Helvetica,sans-Serif\" font-size=\"14.00\">class = Parkki</text>\n</g>\n<!-- 52&#45;&gt;64 -->\n<g id=\"edge64\" class=\"edge\">\n<title>52&#45;&gt;64</title>\n<path fill=\"none\" stroke=\"black\" d=\"M2378.61,-698.91C2394.85,-689.02 2412.32,-678.37 2428.92,-668.25\"/>\n<polygon fill=\"black\" stroke=\"black\" points=\"2430.79,-671.21 2437.5,-663.02 2427.14,-665.24 2430.79,-671.21\"/>\n</g>\n<!-- 54 -->\n<g id=\"node55\" class=\"node\">\n<title>54</title>\n<path fill=\"#39e54d\" stroke=\"black\" d=\"M2198,-536.5C2198,-536.5 2052,-536.5 2052,-536.5 2046,-536.5 2040,-530.5 2040,-524.5 2040,-524.5 2040,-480.5 2040,-480.5 2040,-474.5 2046,-468.5 2052,-468.5 2052,-468.5 2198,-468.5 2198,-468.5 2204,-468.5 2210,-474.5 2210,-480.5 2210,-480.5 2210,-524.5 2210,-524.5 2210,-530.5 2204,-536.5 2198,-536.5\"/>\n<text text-anchor=\"middle\" x=\"2125\" y=\"-521.3\" font-family=\"Helvetica,sans-Serif\" font-size=\"14.00\">gini = 0.0</text>\n<text text-anchor=\"middle\" x=\"2125\" y=\"-506.3\" font-family=\"Helvetica,sans-Serif\" font-size=\"14.00\">samples = 7</text>\n<text text-anchor=\"middle\" x=\"2125\" y=\"-491.3\" font-family=\"Helvetica,sans-Serif\" font-size=\"14.00\">value = [0, 0, 7, 0, 0, 0, 0]</text>\n<text text-anchor=\"middle\" x=\"2125\" y=\"-476.3\" font-family=\"Helvetica,sans-Serif\" font-size=\"14.00\">class = Whitefish</text>\n</g>\n<!-- 53&#45;&gt;54 -->\n<g id=\"edge54\" class=\"edge\">\n<title>53&#45;&gt;54</title>\n<path fill=\"none\" stroke=\"black\" d=\"M2247.12,-579.91C2227.54,-567.66 2206.12,-554.25 2186.75,-542.13\"/>\n<polygon fill=\"black\" stroke=\"black\" points=\"2188.34,-539 2178.01,-536.67 2184.63,-544.94 2188.34,-539\"/>\n</g>\n<!-- 55 -->\n<g id=\"node56\" class=\"node\">\n<title>55</title>\n<path fill=\"#d7fadb\" stroke=\"black\" d=\"M2386,-544C2386,-544 2240,-544 2240,-544 2234,-544 2228,-538 2228,-532 2228,-532 2228,-473 2228,-473 2228,-467 2234,-461 2240,-461 2240,-461 2386,-461 2386,-461 2392,-461 2398,-467 2398,-473 2398,-473 2398,-532 2398,-532 2398,-538 2392,-544 2386,-544\"/>\n<text text-anchor=\"middle\" x=\"2313\" y=\"-528.8\" font-family=\"Helvetica,sans-Serif\" font-size=\"14.00\">Width &lt;= 4.908</text>\n<text text-anchor=\"middle\" x=\"2313\" y=\"-513.8\" font-family=\"Helvetica,sans-Serif\" font-size=\"14.00\">gini = 0.694</text>\n<text text-anchor=\"middle\" x=\"2313\" y=\"-498.8\" font-family=\"Helvetica,sans-Serif\" font-size=\"14.00\">samples = 7</text>\n<text text-anchor=\"middle\" x=\"2313\" y=\"-483.8\" font-family=\"Helvetica,sans-Serif\" font-size=\"14.00\">value = [1, 0, 3, 0, 1, 0, 2]</text>\n<text text-anchor=\"middle\" x=\"2313\" y=\"-468.8\" font-family=\"Helvetica,sans-Serif\" font-size=\"14.00\">class = Whitefish</text>\n</g>\n<!-- 53&#45;&gt;55 -->\n<g id=\"edge55\" class=\"edge\">\n<title>53&#45;&gt;55</title>\n<path fill=\"none\" stroke=\"black\" d=\"M2312.35,-579.91C2312.42,-571.65 2312.49,-562.86 2312.57,-554.3\"/>\n<polygon fill=\"black\" stroke=\"black\" points=\"2316.07,-554.05 2312.65,-544.02 2309.07,-553.99 2316.07,-554.05\"/>\n</g>\n<!-- 56 -->\n<g id=\"node57\" class=\"node\">\n<title>56</title>\n<path fill=\"#e53986\" stroke=\"black\" d=\"M2292,-417.5C2292,-417.5 2146,-417.5 2146,-417.5 2140,-417.5 2134,-411.5 2134,-405.5 2134,-405.5 2134,-361.5 2134,-361.5 2134,-355.5 2140,-349.5 2146,-349.5 2146,-349.5 2292,-349.5 2292,-349.5 2298,-349.5 2304,-355.5 2304,-361.5 2304,-361.5 2304,-405.5 2304,-405.5 2304,-411.5 2298,-417.5 2292,-417.5\"/>\n<text text-anchor=\"middle\" x=\"2219\" y=\"-402.3\" font-family=\"Helvetica,sans-Serif\" font-size=\"14.00\">gini = 0.0</text>\n<text text-anchor=\"middle\" x=\"2219\" y=\"-387.3\" font-family=\"Helvetica,sans-Serif\" font-size=\"14.00\">samples = 2</text>\n<text text-anchor=\"middle\" x=\"2219\" y=\"-372.3\" font-family=\"Helvetica,sans-Serif\" font-size=\"14.00\">value = [0, 0, 0, 0, 0, 0, 2]</text>\n<text text-anchor=\"middle\" x=\"2219\" y=\"-357.3\" font-family=\"Helvetica,sans-Serif\" font-size=\"14.00\">class = Smelt</text>\n</g>\n<!-- 55&#45;&gt;56 -->\n<g id=\"edge56\" class=\"edge\">\n<title>55&#45;&gt;56</title>\n<path fill=\"none\" stroke=\"black\" d=\"M2280.39,-460.91C2271.26,-449.54 2261.32,-437.18 2252.16,-425.77\"/>\n<polygon fill=\"black\" stroke=\"black\" points=\"2254.64,-423.27 2245.65,-417.67 2249.18,-427.65 2254.64,-423.27\"/>\n</g>\n<!-- 57 -->\n<g id=\"node58\" class=\"node\">\n<title>57</title>\n<path fill=\"#9cf2a6\" stroke=\"black\" d=\"M2480,-425C2480,-425 2334,-425 2334,-425 2328,-425 2322,-419 2322,-413 2322,-413 2322,-354 2322,-354 2322,-348 2328,-342 2334,-342 2334,-342 2480,-342 2480,-342 2486,-342 2492,-348 2492,-354 2492,-354 2492,-413 2492,-413 2492,-419 2486,-425 2480,-425\"/>\n<text text-anchor=\"middle\" x=\"2407\" y=\"-409.8\" font-family=\"Helvetica,sans-Serif\" font-size=\"14.00\">Width &lt;= 5.136</text>\n<text text-anchor=\"middle\" x=\"2407\" y=\"-394.8\" font-family=\"Helvetica,sans-Serif\" font-size=\"14.00\">gini = 0.56</text>\n<text text-anchor=\"middle\" x=\"2407\" y=\"-379.8\" font-family=\"Helvetica,sans-Serif\" font-size=\"14.00\">samples = 5</text>\n<text text-anchor=\"middle\" x=\"2407\" y=\"-364.8\" font-family=\"Helvetica,sans-Serif\" font-size=\"14.00\">value = [1, 0, 3, 0, 1, 0, 0]</text>\n<text text-anchor=\"middle\" x=\"2407\" y=\"-349.8\" font-family=\"Helvetica,sans-Serif\" font-size=\"14.00\">class = Whitefish</text>\n</g>\n<!-- 55&#45;&gt;57 -->\n<g id=\"edge57\" class=\"edge\">\n<title>55&#45;&gt;57</title>\n<path fill=\"none\" stroke=\"black\" d=\"M2345.61,-460.91C2352.83,-451.92 2360.55,-442.32 2367.99,-433.05\"/>\n<polygon fill=\"black\" stroke=\"black\" points=\"2370.91,-435.01 2374.44,-425.02 2365.45,-430.62 2370.91,-435.01\"/>\n</g>\n<!-- 58 -->\n<g id=\"node59\" class=\"node\">\n<title>58</title>\n<path fill=\"#e58139\" stroke=\"black\" d=\"M2386,-298.5C2386,-298.5 2240,-298.5 2240,-298.5 2234,-298.5 2228,-292.5 2228,-286.5 2228,-286.5 2228,-242.5 2228,-242.5 2228,-236.5 2234,-230.5 2240,-230.5 2240,-230.5 2386,-230.5 2386,-230.5 2392,-230.5 2398,-236.5 2398,-242.5 2398,-242.5 2398,-286.5 2398,-286.5 2398,-292.5 2392,-298.5 2386,-298.5\"/>\n<text text-anchor=\"middle\" x=\"2313\" y=\"-283.3\" font-family=\"Helvetica,sans-Serif\" font-size=\"14.00\">gini = 0.0</text>\n<text text-anchor=\"middle\" x=\"2313\" y=\"-268.3\" font-family=\"Helvetica,sans-Serif\" font-size=\"14.00\">samples = 1</text>\n<text text-anchor=\"middle\" x=\"2313\" y=\"-253.3\" font-family=\"Helvetica,sans-Serif\" font-size=\"14.00\">value = [1, 0, 0, 0, 0, 0, 0]</text>\n<text text-anchor=\"middle\" x=\"2313\" y=\"-238.3\" font-family=\"Helvetica,sans-Serif\" font-size=\"14.00\">class = Bream</text>\n</g>\n<!-- 57&#45;&gt;58 -->\n<g id=\"edge58\" class=\"edge\">\n<title>57&#45;&gt;58</title>\n<path fill=\"none\" stroke=\"black\" d=\"M2374.39,-341.91C2365.26,-330.54 2355.32,-318.18 2346.16,-306.77\"/>\n<polygon fill=\"black\" stroke=\"black\" points=\"2348.64,-304.27 2339.65,-298.67 2343.18,-308.65 2348.64,-304.27\"/>\n</g>\n<!-- 59 -->\n<g id=\"node60\" class=\"node\">\n<title>59</title>\n<path fill=\"#7bee88\" stroke=\"black\" d=\"M2574,-306C2574,-306 2428,-306 2428,-306 2422,-306 2416,-300 2416,-294 2416,-294 2416,-235 2416,-235 2416,-229 2422,-223 2428,-223 2428,-223 2574,-223 2574,-223 2580,-223 2586,-229 2586,-235 2586,-235 2586,-294 2586,-294 2586,-300 2580,-306 2574,-306\"/>\n<text text-anchor=\"middle\" x=\"2501\" y=\"-290.8\" font-family=\"Helvetica,sans-Serif\" font-size=\"14.00\">Weight &lt;= 452.0</text>\n<text text-anchor=\"middle\" x=\"2501\" y=\"-275.8\" font-family=\"Helvetica,sans-Serif\" font-size=\"14.00\">gini = 0.375</text>\n<text text-anchor=\"middle\" x=\"2501\" y=\"-260.8\" font-family=\"Helvetica,sans-Serif\" font-size=\"14.00\">samples = 4</text>\n<text text-anchor=\"middle\" x=\"2501\" y=\"-245.8\" font-family=\"Helvetica,sans-Serif\" font-size=\"14.00\">value = [0, 0, 3, 0, 1, 0, 0]</text>\n<text text-anchor=\"middle\" x=\"2501\" y=\"-230.8\" font-family=\"Helvetica,sans-Serif\" font-size=\"14.00\">class = Whitefish</text>\n</g>\n<!-- 57&#45;&gt;59 -->\n<g id=\"edge59\" class=\"edge\">\n<title>57&#45;&gt;59</title>\n<path fill=\"none\" stroke=\"black\" d=\"M2439.61,-341.91C2446.83,-332.92 2454.55,-323.32 2461.99,-314.05\"/>\n<polygon fill=\"black\" stroke=\"black\" points=\"2464.91,-316.01 2468.44,-306.02 2459.45,-311.62 2464.91,-316.01\"/>\n</g>\n<!-- 60 -->\n<g id=\"node61\" class=\"node\">\n<title>60</title>\n<path fill=\"#ffffff\" stroke=\"black\" d=\"M2480,-187C2480,-187 2334,-187 2334,-187 2328,-187 2322,-181 2322,-175 2322,-175 2322,-116 2322,-116 2322,-110 2328,-104 2334,-104 2334,-104 2480,-104 2480,-104 2486,-104 2492,-110 2492,-116 2492,-116 2492,-175 2492,-175 2492,-181 2486,-187 2480,-187\"/>\n<text text-anchor=\"middle\" x=\"2407\" y=\"-171.8\" font-family=\"Helvetica,sans-Serif\" font-size=\"14.00\">Weight &lt;= 345.0</text>\n<text text-anchor=\"middle\" x=\"2407\" y=\"-156.8\" font-family=\"Helvetica,sans-Serif\" font-size=\"14.00\">gini = 0.5</text>\n<text text-anchor=\"middle\" x=\"2407\" y=\"-141.8\" font-family=\"Helvetica,sans-Serif\" font-size=\"14.00\">samples = 2</text>\n<text text-anchor=\"middle\" x=\"2407\" y=\"-126.8\" font-family=\"Helvetica,sans-Serif\" font-size=\"14.00\">value = [0, 0, 1, 0, 1, 0, 0]</text>\n<text text-anchor=\"middle\" x=\"2407\" y=\"-111.8\" font-family=\"Helvetica,sans-Serif\" font-size=\"14.00\">class = Whitefish</text>\n</g>\n<!-- 59&#45;&gt;60 -->\n<g id=\"edge60\" class=\"edge\">\n<title>59&#45;&gt;60</title>\n<path fill=\"none\" stroke=\"black\" d=\"M2468.39,-222.91C2461.17,-213.92 2453.45,-204.32 2446.01,-195.05\"/>\n<polygon fill=\"black\" stroke=\"black\" points=\"2448.55,-192.62 2439.56,-187.02 2443.09,-197.01 2448.55,-192.62\"/>\n</g>\n<!-- 63 -->\n<g id=\"node64\" class=\"node\">\n<title>63</title>\n<path fill=\"#39e54d\" stroke=\"black\" d=\"M2668,-179.5C2668,-179.5 2522,-179.5 2522,-179.5 2516,-179.5 2510,-173.5 2510,-167.5 2510,-167.5 2510,-123.5 2510,-123.5 2510,-117.5 2516,-111.5 2522,-111.5 2522,-111.5 2668,-111.5 2668,-111.5 2674,-111.5 2680,-117.5 2680,-123.5 2680,-123.5 2680,-167.5 2680,-167.5 2680,-173.5 2674,-179.5 2668,-179.5\"/>\n<text text-anchor=\"middle\" x=\"2595\" y=\"-164.3\" font-family=\"Helvetica,sans-Serif\" font-size=\"14.00\">gini = 0.0</text>\n<text text-anchor=\"middle\" x=\"2595\" y=\"-149.3\" font-family=\"Helvetica,sans-Serif\" font-size=\"14.00\">samples = 2</text>\n<text text-anchor=\"middle\" x=\"2595\" y=\"-134.3\" font-family=\"Helvetica,sans-Serif\" font-size=\"14.00\">value = [0, 0, 2, 0, 0, 0, 0]</text>\n<text text-anchor=\"middle\" x=\"2595\" y=\"-119.3\" font-family=\"Helvetica,sans-Serif\" font-size=\"14.00\">class = Whitefish</text>\n</g>\n<!-- 59&#45;&gt;63 -->\n<g id=\"edge63\" class=\"edge\">\n<title>59&#45;&gt;63</title>\n<path fill=\"none\" stroke=\"black\" d=\"M2533.61,-222.91C2542.74,-211.54 2552.68,-199.18 2561.84,-187.77\"/>\n<polygon fill=\"black\" stroke=\"black\" points=\"2564.82,-189.65 2568.35,-179.67 2559.36,-185.27 2564.82,-189.65\"/>\n</g>\n<!-- 61 -->\n<g id=\"node62\" class=\"node\">\n<title>61</title>\n<path fill=\"#39e54d\" stroke=\"black\" d=\"M2386,-68C2386,-68 2240,-68 2240,-68 2234,-68 2228,-62 2228,-56 2228,-56 2228,-12 2228,-12 2228,-6 2234,0 2240,0 2240,0 2386,0 2386,0 2392,0 2398,-6 2398,-12 2398,-12 2398,-56 2398,-56 2398,-62 2392,-68 2386,-68\"/>\n<text text-anchor=\"middle\" x=\"2313\" y=\"-52.8\" font-family=\"Helvetica,sans-Serif\" font-size=\"14.00\">gini = 0.0</text>\n<text text-anchor=\"middle\" x=\"2313\" y=\"-37.8\" font-family=\"Helvetica,sans-Serif\" font-size=\"14.00\">samples = 1</text>\n<text text-anchor=\"middle\" x=\"2313\" y=\"-22.8\" font-family=\"Helvetica,sans-Serif\" font-size=\"14.00\">value = [0, 0, 1, 0, 0, 0, 0]</text>\n<text text-anchor=\"middle\" x=\"2313\" y=\"-7.8\" font-family=\"Helvetica,sans-Serif\" font-size=\"14.00\">class = Whitefish</text>\n</g>\n<!-- 60&#45;&gt;61 -->\n<g id=\"edge61\" class=\"edge\">\n<title>60&#45;&gt;61</title>\n<path fill=\"none\" stroke=\"black\" d=\"M2372,-103.73C2364.25,-94.7 2356.03,-85.12 2348.27,-76.08\"/>\n<polygon fill=\"black\" stroke=\"black\" points=\"2350.76,-73.61 2341.59,-68.3 2345.44,-78.17 2350.76,-73.61\"/>\n</g>\n<!-- 62 -->\n<g id=\"node63\" class=\"node\">\n<title>62</title>\n<path fill=\"#3956e5\" stroke=\"black\" d=\"M2574,-68C2574,-68 2428,-68 2428,-68 2422,-68 2416,-62 2416,-56 2416,-56 2416,-12 2416,-12 2416,-6 2422,0 2428,0 2428,0 2574,0 2574,0 2580,0 2586,-6 2586,-12 2586,-12 2586,-56 2586,-56 2586,-62 2580,-68 2574,-68\"/>\n<text text-anchor=\"middle\" x=\"2501\" y=\"-52.8\" font-family=\"Helvetica,sans-Serif\" font-size=\"14.00\">gini = 0.0</text>\n<text text-anchor=\"middle\" x=\"2501\" y=\"-37.8\" font-family=\"Helvetica,sans-Serif\" font-size=\"14.00\">samples = 1</text>\n<text text-anchor=\"middle\" x=\"2501\" y=\"-22.8\" font-family=\"Helvetica,sans-Serif\" font-size=\"14.00\">value = [0, 0, 0, 0, 1, 0, 0]</text>\n<text text-anchor=\"middle\" x=\"2501\" y=\"-7.8\" font-family=\"Helvetica,sans-Serif\" font-size=\"14.00\">class = Perch</text>\n</g>\n<!-- 60&#45;&gt;62 -->\n<g id=\"edge62\" class=\"edge\">\n<title>60&#45;&gt;62</title>\n<path fill=\"none\" stroke=\"black\" d=\"M2442,-103.73C2449.75,-94.7 2457.97,-85.12 2465.73,-76.08\"/>\n<polygon fill=\"black\" stroke=\"black\" points=\"2468.56,-78.17 2472.41,-68.3 2463.24,-73.61 2468.56,-78.17\"/>\n</g>\n<!-- 65 -->\n<g id=\"node66\" class=\"node\">\n<title>65</title>\n<path fill=\"#39e5e2\" stroke=\"black\" d=\"M2576,-536.5C2576,-536.5 2430,-536.5 2430,-536.5 2424,-536.5 2418,-530.5 2418,-524.5 2418,-524.5 2418,-480.5 2418,-480.5 2418,-474.5 2424,-468.5 2430,-468.5 2430,-468.5 2576,-468.5 2576,-468.5 2582,-468.5 2588,-474.5 2588,-480.5 2588,-480.5 2588,-524.5 2588,-524.5 2588,-530.5 2582,-536.5 2576,-536.5\"/>\n<text text-anchor=\"middle\" x=\"2503\" y=\"-521.3\" font-family=\"Helvetica,sans-Serif\" font-size=\"14.00\">gini = 0.0</text>\n<text text-anchor=\"middle\" x=\"2503\" y=\"-506.3\" font-family=\"Helvetica,sans-Serif\" font-size=\"14.00\">samples = 2</text>\n<text text-anchor=\"middle\" x=\"2503\" y=\"-491.3\" font-family=\"Helvetica,sans-Serif\" font-size=\"14.00\">value = [0, 0, 0, 2, 0, 0, 0]</text>\n<text text-anchor=\"middle\" x=\"2503\" y=\"-476.3\" font-family=\"Helvetica,sans-Serif\" font-size=\"14.00\">class = Parkki</text>\n</g>\n<!-- 64&#45;&gt;65 -->\n<g id=\"edge65\" class=\"edge\">\n<title>64&#45;&gt;65</title>\n<path fill=\"none\" stroke=\"black\" d=\"M2503.65,-579.91C2503.56,-569.2 2503.46,-557.62 2503.37,-546.78\"/>\n<polygon fill=\"black\" stroke=\"black\" points=\"2506.87,-546.64 2503.28,-536.67 2499.87,-546.7 2506.87,-546.64\"/>\n</g>\n<!-- 66 -->\n<g id=\"node67\" class=\"node\">\n<title>66</title>\n<path fill=\"#39e54d\" stroke=\"black\" d=\"M2764,-536.5C2764,-536.5 2618,-536.5 2618,-536.5 2612,-536.5 2606,-530.5 2606,-524.5 2606,-524.5 2606,-480.5 2606,-480.5 2606,-474.5 2612,-468.5 2618,-468.5 2618,-468.5 2764,-468.5 2764,-468.5 2770,-468.5 2776,-474.5 2776,-480.5 2776,-480.5 2776,-524.5 2776,-524.5 2776,-530.5 2770,-536.5 2764,-536.5\"/>\n<text text-anchor=\"middle\" x=\"2691\" y=\"-521.3\" font-family=\"Helvetica,sans-Serif\" font-size=\"14.00\">gini = 0.0</text>\n<text text-anchor=\"middle\" x=\"2691\" y=\"-506.3\" font-family=\"Helvetica,sans-Serif\" font-size=\"14.00\">samples = 1</text>\n<text text-anchor=\"middle\" x=\"2691\" y=\"-491.3\" font-family=\"Helvetica,sans-Serif\" font-size=\"14.00\">value = [0, 0, 1, 0, 0, 0, 0]</text>\n<text text-anchor=\"middle\" x=\"2691\" y=\"-476.3\" font-family=\"Helvetica,sans-Serif\" font-size=\"14.00\">class = Whitefish</text>\n</g>\n<!-- 64&#45;&gt;66 -->\n<g id=\"edge66\" class=\"edge\">\n<title>64&#45;&gt;66</title>\n<path fill=\"none\" stroke=\"black\" d=\"M2568.88,-579.91C2588.46,-567.66 2609.88,-554.25 2629.25,-542.13\"/>\n<polygon fill=\"black\" stroke=\"black\" points=\"2631.37,-544.94 2637.99,-536.67 2627.66,-539 2631.37,-544.94\"/>\n</g>\n<!-- 71 -->\n<g id=\"node72\" class=\"node\">\n<title>71</title>\n<path fill=\"#e58139\" stroke=\"black\" d=\"M2207.5,-1369.5C2207.5,-1369.5 2054.5,-1369.5 2054.5,-1369.5 2048.5,-1369.5 2042.5,-1363.5 2042.5,-1357.5 2042.5,-1357.5 2042.5,-1313.5 2042.5,-1313.5 2042.5,-1307.5 2048.5,-1301.5 2054.5,-1301.5 2054.5,-1301.5 2207.5,-1301.5 2207.5,-1301.5 2213.5,-1301.5 2219.5,-1307.5 2219.5,-1313.5 2219.5,-1313.5 2219.5,-1357.5 2219.5,-1357.5 2219.5,-1363.5 2213.5,-1369.5 2207.5,-1369.5\"/>\n<text text-anchor=\"middle\" x=\"2131\" y=\"-1354.3\" font-family=\"Helvetica,sans-Serif\" font-size=\"14.00\">gini = 0.0</text>\n<text text-anchor=\"middle\" x=\"2131\" y=\"-1339.3\" font-family=\"Helvetica,sans-Serif\" font-size=\"14.00\">samples = 27</text>\n<text text-anchor=\"middle\" x=\"2131\" y=\"-1324.3\" font-family=\"Helvetica,sans-Serif\" font-size=\"14.00\">value = [27, 0, 0, 0, 0, 0, 0]</text>\n<text text-anchor=\"middle\" x=\"2131\" y=\"-1309.3\" font-family=\"Helvetica,sans-Serif\" font-size=\"14.00\">class = Bream</text>\n</g>\n<!-- 70&#45;&gt;71 -->\n<g id=\"edge71\" class=\"edge\">\n<title>70&#45;&gt;71</title>\n<path fill=\"none\" stroke=\"black\" d=\"M2131.65,-1412.91C2131.56,-1402.2 2131.46,-1390.62 2131.37,-1379.78\"/>\n<polygon fill=\"black\" stroke=\"black\" points=\"2134.87,-1379.64 2131.28,-1369.67 2127.87,-1379.7 2134.87,-1379.64\"/>\n</g>\n<!-- 72 -->\n<g id=\"node73\" class=\"node\">\n<title>72</title>\n<path fill=\"#39e54d\" stroke=\"black\" d=\"M2396,-1369.5C2396,-1369.5 2250,-1369.5 2250,-1369.5 2244,-1369.5 2238,-1363.5 2238,-1357.5 2238,-1357.5 2238,-1313.5 2238,-1313.5 2238,-1307.5 2244,-1301.5 2250,-1301.5 2250,-1301.5 2396,-1301.5 2396,-1301.5 2402,-1301.5 2408,-1307.5 2408,-1313.5 2408,-1313.5 2408,-1357.5 2408,-1357.5 2408,-1363.5 2402,-1369.5 2396,-1369.5\"/>\n<text text-anchor=\"middle\" x=\"2323\" y=\"-1354.3\" font-family=\"Helvetica,sans-Serif\" font-size=\"14.00\">gini = 0.0</text>\n<text text-anchor=\"middle\" x=\"2323\" y=\"-1339.3\" font-family=\"Helvetica,sans-Serif\" font-size=\"14.00\">samples = 1</text>\n<text text-anchor=\"middle\" x=\"2323\" y=\"-1324.3\" font-family=\"Helvetica,sans-Serif\" font-size=\"14.00\">value = [0, 0, 1, 0, 0, 0, 0]</text>\n<text text-anchor=\"middle\" x=\"2323\" y=\"-1309.3\" font-family=\"Helvetica,sans-Serif\" font-size=\"14.00\">class = Whitefish</text>\n</g>\n<!-- 70&#45;&gt;72 -->\n<g id=\"edge72\" class=\"edge\">\n<title>70&#45;&gt;72</title>\n<path fill=\"none\" stroke=\"black\" d=\"M2198.27,-1412.91C2218.35,-1400.6 2240.35,-1387.13 2260.2,-1374.97\"/>\n<polygon fill=\"black\" stroke=\"black\" points=\"2262.16,-1377.88 2268.86,-1369.67 2258.5,-1371.91 2262.16,-1377.88\"/>\n</g>\n</g>\n</svg>\n",
            "text/plain": [
              "<graphviz.sources.Source at 0x79eedeef0ac0>"
            ]
          },
          "metadata": {},
          "execution_count": 25
        }
      ]
    },
    {
      "cell_type": "code",
      "source": [
        "# Simpan gambar sebagai file\n",
        "graph = graphviz.Source(dot_graph)\n",
        "graph.render(filename='decision_tree', format='png', cleanup=True)"
      ],
      "metadata": {
        "colab": {
          "base_uri": "https://localhost:8080/",
          "height": 35
        },
        "id": "5LFjgAn-q3xP",
        "outputId": "9334ee93-b21d-4dd3-bc2a-d0edde36ffa0"
      },
      "execution_count": 28,
      "outputs": [
        {
          "output_type": "execute_result",
          "data": {
            "text/plain": [
              "'decision_tree.png'"
            ],
            "application/vnd.google.colaboratory.intrinsic+json": {
              "type": "string"
            }
          },
          "metadata": {},
          "execution_count": 28
        }
      ]
    },
    {
      "cell_type": "code",
      "source": [],
      "metadata": {
        "id": "L3l5dJCdrNMn"
      },
      "execution_count": null,
      "outputs": []
    }
  ],
  "metadata": {
    "colab": {
      "provenance": [],
      "authorship_tag": "ABX9TyPM0z9bWEcptSvRP2QbCZdE",
      "include_colab_link": true
    },
    "kernelspec": {
      "display_name": "Python 3",
      "name": "python3"
    },
    "language_info": {
      "name": "python"
    }
  },
  "nbformat": 4,
  "nbformat_minor": 0
}